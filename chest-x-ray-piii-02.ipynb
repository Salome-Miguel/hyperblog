{
 "cells": [
  {
   "cell_type": "code",
   "execution_count": 1,
   "id": "0902a735",
   "metadata": {
    "_cell_guid": "b1076dfc-b9ad-4769-8c92-a6c4dae69d19",
    "_uuid": "8f2839f25d086af736a60e9eeb907d3b93b6e0e5",
    "execution": {
     "iopub.execute_input": "2023-04-06T00:23:53.117682Z",
     "iopub.status.busy": "2023-04-06T00:23:53.117228Z",
     "iopub.status.idle": "2023-04-06T00:24:00.953975Z",
     "shell.execute_reply": "2023-04-06T00:24:00.952880Z"
    },
    "papermill": {
     "duration": 7.850036,
     "end_time": "2023-04-06T00:24:00.956990",
     "exception": false,
     "start_time": "2023-04-06T00:23:53.106954",
     "status": "completed"
    },
    "tags": []
   },
   "outputs": [],
   "source": [
    "import matplotlib.pyplot as plt\n",
    "import seaborn as sns\n",
    "import keras\n",
    "from keras.models import Sequential\n",
    "from keras.layers import Dense, Conv2D , MaxPooling2D , Flatten , Dropout , BatchNormalization\n",
    "from keras.preprocessing.image import ImageDataGenerator\n",
    "from sklearn.model_selection import train_test_split\n",
    "from sklearn.metrics import classification_report,confusion_matrix\n",
    "from keras.callbacks import ReduceLROnPlateau, ModelCheckpoint, EarlyStopping\n",
    "from keras import models, optimizers, regularizers\n",
    "import cv2\n",
    "import os\n",
    "import numpy as np"
   ]
  },
  {
   "cell_type": "code",
   "execution_count": 2,
   "id": "0d357f67",
   "metadata": {
    "execution": {
     "iopub.execute_input": "2023-04-06T00:24:00.965622Z",
     "iopub.status.busy": "2023-04-06T00:24:00.964917Z",
     "iopub.status.idle": "2023-04-06T00:24:00.970212Z",
     "shell.execute_reply": "2023-04-06T00:24:00.969207Z"
    },
    "papermill": {
     "duration": 0.011969,
     "end_time": "2023-04-06T00:24:00.972565",
     "exception": false,
     "start_time": "2023-04-06T00:24:00.960596",
     "status": "completed"
    },
    "tags": []
   },
   "outputs": [],
   "source": [
    "# Definir el generador de imágenes de entrenamiento con aumento de datos\n",
    "train_datagen = ImageDataGenerator(rescale=1./255,\n",
    "rotation_range=40,\n",
    "width_shift_range=0.2,\n",
    "height_shift_range=0.2,\n",
    "shear_range=0.2,\n",
    "zoom_range=0.2,\n",
    "horizontal_flip=True)"
   ]
  },
  {
   "cell_type": "code",
   "execution_count": 3,
   "id": "b3f9c6bd",
   "metadata": {
    "execution": {
     "iopub.execute_input": "2023-04-06T00:24:00.980122Z",
     "iopub.status.busy": "2023-04-06T00:24:00.979839Z",
     "iopub.status.idle": "2023-04-06T00:24:00.984197Z",
     "shell.execute_reply": "2023-04-06T00:24:00.983220Z"
    },
    "papermill": {
     "duration": 0.010676,
     "end_time": "2023-04-06T00:24:00.986328",
     "exception": false,
     "start_time": "2023-04-06T00:24:00.975652",
     "status": "completed"
    },
    "tags": []
   },
   "outputs": [],
   "source": [
    "# Definir el generador de imágenes de validación sin aumento de datos\n",
    "valid_datagen = ImageDataGenerator(rescale=1./255)"
   ]
  },
  {
   "cell_type": "code",
   "execution_count": 4,
   "id": "f2749113",
   "metadata": {
    "execution": {
     "iopub.execute_input": "2023-04-06T00:24:00.994204Z",
     "iopub.status.busy": "2023-04-06T00:24:00.993577Z",
     "iopub.status.idle": "2023-04-06T00:24:02.821082Z",
     "shell.execute_reply": "2023-04-06T00:24:02.820092Z"
    },
    "papermill": {
     "duration": 1.833833,
     "end_time": "2023-04-06T00:24:02.823422",
     "exception": false,
     "start_time": "2023-04-06T00:24:00.989589",
     "status": "completed"
    },
    "tags": []
   },
   "outputs": [
    {
     "name": "stdout",
     "output_type": "stream",
     "text": [
      "Found 5216 images belonging to 2 classes.\n",
      "Found 624 images belonging to 2 classes.\n"
     ]
    }
   ],
   "source": [
    "train_generator = train_datagen.flow_from_directory(\"/kaggle/input/chest-xray-pneumonia/chest_xray/train\",\n",
    "                                                    target_size=(200, 200),\n",
    "                                                    batch_size=32,\n",
    "                                                    class_mode=\"binary\")\n",
    "\n",
    "test_generator = valid_datagen.flow_from_directory(\"/kaggle/input/chest-xray-pneumonia/chest_xray/test\",\n",
    "                                                         target_size=(200, 200),\n",
    "                                                         batch_size=32,\n",
    "                                                         class_mode=\"binary\")"
   ]
  },
  {
   "cell_type": "code",
   "execution_count": 5,
   "id": "3c918961",
   "metadata": {
    "execution": {
     "iopub.execute_input": "2023-04-06T00:24:02.832110Z",
     "iopub.status.busy": "2023-04-06T00:24:02.831237Z",
     "iopub.status.idle": "2023-04-06T00:24:05.451522Z",
     "shell.execute_reply": "2023-04-06T00:24:05.450577Z"
    },
    "papermill": {
     "duration": 2.643604,
     "end_time": "2023-04-06T00:24:05.470516",
     "exception": false,
     "start_time": "2023-04-06T00:24:02.826912",
     "status": "completed"
    },
    "tags": []
   },
   "outputs": [
    {
     "name": "stdout",
     "output_type": "stream",
     "text": [
      "Model: \"sequential\"\n",
      "_________________________________________________________________\n",
      " Layer (type)                Output Shape              Param #   \n",
      "=================================================================\n",
      " conv2d (Conv2D)             (None, 198, 198, 32)      896       \n",
      "                                                                 \n",
      " max_pooling2d (MaxPooling2D  (None, 99, 99, 32)       0         \n",
      " )                                                               \n",
      "                                                                 \n",
      " conv2d_1 (Conv2D)           (None, 97, 97, 64)        18496     \n",
      "                                                                 \n",
      " max_pooling2d_1 (MaxPooling  (None, 48, 48, 64)       0         \n",
      " 2D)                                                             \n",
      "                                                                 \n",
      " conv2d_2 (Conv2D)           (None, 46, 46, 128)       73856     \n",
      "                                                                 \n",
      " max_pooling2d_2 (MaxPooling  (None, 23, 23, 128)      0         \n",
      " 2D)                                                             \n",
      "                                                                 \n",
      " conv2d_3 (Conv2D)           (None, 21, 21, 128)       147584    \n",
      "                                                                 \n",
      " max_pooling2d_3 (MaxPooling  (None, 10, 10, 128)      0         \n",
      " 2D)                                                             \n",
      "                                                                 \n",
      " flatten (Flatten)           (None, 12800)             0         \n",
      "                                                                 \n",
      " dropout (Dropout)           (None, 12800)             0         \n",
      "                                                                 \n",
      " dense (Dense)               (None, 512)               6554112   \n",
      "                                                                 \n",
      " dense_1 (Dense)             (None, 1)                 513       \n",
      "                                                                 \n",
      "=================================================================\n",
      "Total params: 6,795,457\n",
      "Trainable params: 6,795,457\n",
      "Non-trainable params: 0\n",
      "_________________________________________________________________\n"
     ]
    }
   ],
   "source": [
    "# Creando el modelo\n",
    "model = models.Sequential()\n",
    "\n",
    "model.add(Conv2D(32,(3,3),activation=\"relu\",input_shape=(200,200,3)))\n",
    "model.add(MaxPooling2D((2,2)))\n",
    "\n",
    "model.add(Conv2D(64,(3,3),activation=\"relu\"))\n",
    "model.add(MaxPooling2D((2,2)))\n",
    "\n",
    "model.add(Conv2D(128,(3,3),activation=\"relu\"))\n",
    "model.add(MaxPooling2D((2,2)))\n",
    "\n",
    "model.add(Conv2D(128,(3,3),activation=\"relu\"))\n",
    "model.add(MaxPooling2D((2,2)))\n",
    "\n",
    "model.add(Flatten())\n",
    "model.add(Dropout(0.5))\n",
    "model.add(Dense(512, activation=\"relu\", kernel_regularizer=regularizers.l2(0.01)))\n",
    "model.add(Dense(1, activation=\"sigmoid\", kernel_regularizer=regularizers.l2(0.01)))\n",
    "\n",
    "model.summary()"
   ]
  },
  {
   "cell_type": "code",
   "execution_count": 6,
   "id": "791565cb",
   "metadata": {
    "execution": {
     "iopub.execute_input": "2023-04-06T00:24:05.482366Z",
     "iopub.status.busy": "2023-04-06T00:24:05.482060Z",
     "iopub.status.idle": "2023-04-06T00:24:05.486772Z",
     "shell.execute_reply": "2023-04-06T00:24:05.485741Z"
    },
    "papermill": {
     "duration": 0.013177,
     "end_time": "2023-04-06T00:24:05.488933",
     "exception": false,
     "start_time": "2023-04-06T00:24:05.475756",
     "status": "completed"
    },
    "tags": []
   },
   "outputs": [],
   "source": [
    "# Ajustar hiperparámetros y entrenar modelo\n",
    "learning_rate = 0.0001\n",
    "dropout_rate = 0.5\n",
    "batch_size = 32\n",
    "epochs = 50"
   ]
  },
  {
   "cell_type": "code",
   "execution_count": 7,
   "id": "0b28156f",
   "metadata": {
    "execution": {
     "iopub.execute_input": "2023-04-06T00:24:05.500174Z",
     "iopub.status.busy": "2023-04-06T00:24:05.499896Z",
     "iopub.status.idle": "2023-04-06T00:24:05.504784Z",
     "shell.execute_reply": "2023-04-06T00:24:05.503770Z"
    },
    "papermill": {
     "duration": 0.01294,
     "end_time": "2023-04-06T00:24:05.506838",
     "exception": false,
     "start_time": "2023-04-06T00:24:05.493898",
     "status": "completed"
    },
    "tags": []
   },
   "outputs": [],
   "source": [
    "# Definiendo los callbacks\n",
    "early_stopping = EarlyStopping(patience=10, verbose=1)\n",
    "reduce_lr = ReduceLROnPlateau(factor=0.1, patience=5, verbose=1)\n",
    "model_checkpoint = ModelCheckpoint('best_model.h5', save_best_only=True, verbose=1)"
   ]
  },
  {
   "cell_type": "code",
   "execution_count": 8,
   "id": "55773be5",
   "metadata": {
    "execution": {
     "iopub.execute_input": "2023-04-06T00:24:05.517905Z",
     "iopub.status.busy": "2023-04-06T00:24:05.517645Z",
     "iopub.status.idle": "2023-04-06T00:24:05.532663Z",
     "shell.execute_reply": "2023-04-06T00:24:05.531809Z"
    },
    "papermill": {
     "duration": 0.022861,
     "end_time": "2023-04-06T00:24:05.534630",
     "exception": false,
     "start_time": "2023-04-06T00:24:05.511769",
     "status": "completed"
    },
    "tags": []
   },
   "outputs": [],
   "source": [
    "# Compilando el modelo\n",
    "model.compile(optimizer=optimizers.Adam(learning_rate),\n",
    "              loss='binary_crossentropy',\n",
    "              metrics=['accuracy'])"
   ]
  },
  {
   "cell_type": "code",
   "execution_count": 9,
   "id": "69c0d022",
   "metadata": {
    "execution": {
     "iopub.execute_input": "2023-04-06T00:24:05.546590Z",
     "iopub.status.busy": "2023-04-06T00:24:05.545671Z",
     "iopub.status.idle": "2023-04-06T01:57:26.613668Z",
     "shell.execute_reply": "2023-04-06T01:57:26.610434Z"
    },
    "papermill": {
     "duration": 5601.076197,
     "end_time": "2023-04-06T01:57:26.616008",
     "exception": false,
     "start_time": "2023-04-06T00:24:05.539811",
     "status": "completed"
    },
    "tags": []
   },
   "outputs": [
    {
     "name": "stdout",
     "output_type": "stream",
     "text": [
      "Epoch 1/50\n",
      "163/163 [==============================] - ETA: 0s - loss: 4.8358 - accuracy: 0.7481\n",
      "Epoch 1: val_loss improved from inf to 1.93592, saving model to best_model.h5\n",
      "163/163 [==============================] - 152s 898ms/step - loss: 4.8358 - accuracy: 0.7481 - val_loss: 1.9359 - val_accuracy: 0.7533 - lr: 1.0000e-04\n",
      "Epoch 2/50\n",
      "163/163 [==============================] - ETA: 0s - loss: 1.1582 - accuracy: 0.8113\n",
      "Epoch 2: val_loss improved from 1.93592 to 0.80866, saving model to best_model.h5\n",
      "163/163 [==============================] - 111s 680ms/step - loss: 1.1582 - accuracy: 0.8113 - val_loss: 0.8087 - val_accuracy: 0.8207 - lr: 1.0000e-04\n",
      "Epoch 3/50\n",
      "163/163 [==============================] - ETA: 0s - loss: 0.6470 - accuracy: 0.8499\n",
      "Epoch 3: val_loss improved from 0.80866 to 0.58671, saving model to best_model.h5\n",
      "163/163 [==============================] - 114s 699ms/step - loss: 0.6470 - accuracy: 0.8499 - val_loss: 0.5867 - val_accuracy: 0.8240 - lr: 1.0000e-04\n",
      "Epoch 4/50\n",
      "163/163 [==============================] - ETA: 0s - loss: 0.4950 - accuracy: 0.8593\n",
      "Epoch 4: val_loss improved from 0.58671 to 0.52883, saving model to best_model.h5\n",
      "163/163 [==============================] - 115s 706ms/step - loss: 0.4950 - accuracy: 0.8593 - val_loss: 0.5288 - val_accuracy: 0.8273 - lr: 1.0000e-04\n",
      "Epoch 5/50\n",
      "163/163 [==============================] - ETA: 0s - loss: 0.4170 - accuracy: 0.8692\n",
      "Epoch 5: val_loss did not improve from 0.52883\n",
      "163/163 [==============================] - 115s 704ms/step - loss: 0.4170 - accuracy: 0.8692 - val_loss: 0.5381 - val_accuracy: 0.7845 - lr: 1.0000e-04\n",
      "Epoch 6/50\n",
      "163/163 [==============================] - ETA: 0s - loss: 0.3937 - accuracy: 0.8650\n",
      "Epoch 6: val_loss improved from 0.52883 to 0.44422, saving model to best_model.h5\n",
      "163/163 [==============================] - 116s 711ms/step - loss: 0.3937 - accuracy: 0.8650 - val_loss: 0.4442 - val_accuracy: 0.8454 - lr: 1.0000e-04\n",
      "Epoch 7/50\n",
      "163/163 [==============================] - ETA: 0s - loss: 0.3511 - accuracy: 0.8775\n",
      "Epoch 7: val_loss did not improve from 0.44422\n",
      "163/163 [==============================] - 115s 707ms/step - loss: 0.3511 - accuracy: 0.8775 - val_loss: 0.4581 - val_accuracy: 0.8257 - lr: 1.0000e-04\n",
      "Epoch 8/50\n",
      "163/163 [==============================] - ETA: 0s - loss: 0.3409 - accuracy: 0.8798\n",
      "Epoch 8: val_loss improved from 0.44422 to 0.40884, saving model to best_model.h5\n",
      "163/163 [==============================] - 113s 692ms/step - loss: 0.3409 - accuracy: 0.8798 - val_loss: 0.4088 - val_accuracy: 0.8586 - lr: 1.0000e-04\n",
      "Epoch 9/50\n",
      "163/163 [==============================] - ETA: 0s - loss: 0.3230 - accuracy: 0.8813\n",
      "Epoch 9: val_loss improved from 0.40884 to 0.39071, saving model to best_model.h5\n",
      "163/163 [==============================] - 116s 714ms/step - loss: 0.3230 - accuracy: 0.8813 - val_loss: 0.3907 - val_accuracy: 0.8503 - lr: 1.0000e-04\n",
      "Epoch 10/50\n",
      "163/163 [==============================] - ETA: 0s - loss: 0.3145 - accuracy: 0.8861\n",
      "Epoch 10: val_loss improved from 0.39071 to 0.35561, saving model to best_model.h5\n",
      "163/163 [==============================] - 112s 687ms/step - loss: 0.3145 - accuracy: 0.8861 - val_loss: 0.3556 - val_accuracy: 0.8734 - lr: 1.0000e-04\n",
      "Epoch 11/50\n",
      "163/163 [==============================] - ETA: 0s - loss: 0.2931 - accuracy: 0.8974\n",
      "Epoch 11: val_loss did not improve from 0.35561\n",
      "163/163 [==============================] - 116s 711ms/step - loss: 0.2931 - accuracy: 0.8974 - val_loss: 0.3943 - val_accuracy: 0.8618 - lr: 1.0000e-04\n",
      "Epoch 12/50\n",
      "163/163 [==============================] - ETA: 0s - loss: 0.3097 - accuracy: 0.8890\n",
      "Epoch 12: val_loss did not improve from 0.35561\n",
      "163/163 [==============================] - 113s 692ms/step - loss: 0.3097 - accuracy: 0.8890 - val_loss: 0.4452 - val_accuracy: 0.8487 - lr: 1.0000e-04\n",
      "Epoch 13/50\n",
      "163/163 [==============================] - ETA: 0s - loss: 0.3022 - accuracy: 0.8915\n",
      "Epoch 13: val_loss did not improve from 0.35561\n",
      "163/163 [==============================] - 117s 714ms/step - loss: 0.3022 - accuracy: 0.8915 - val_loss: 0.4771 - val_accuracy: 0.8076 - lr: 1.0000e-04\n",
      "Epoch 14/50\n",
      "163/163 [==============================] - ETA: 0s - loss: 0.2875 - accuracy: 0.8997\n",
      "Epoch 14: val_loss did not improve from 0.35561\n",
      "163/163 [==============================] - 115s 705ms/step - loss: 0.2875 - accuracy: 0.8997 - val_loss: 0.3649 - val_accuracy: 0.8717 - lr: 1.0000e-04\n",
      "Epoch 15/50\n",
      "163/163 [==============================] - ETA: 0s - loss: 0.2982 - accuracy: 0.8894\n",
      "Epoch 15: ReduceLROnPlateau reducing learning rate to 9.999999747378752e-06.\n",
      "\n",
      "Epoch 15: val_loss did not improve from 0.35561\n",
      "163/163 [==============================] - 118s 724ms/step - loss: 0.2982 - accuracy: 0.8894 - val_loss: 0.3921 - val_accuracy: 0.8602 - lr: 1.0000e-04\n",
      "Epoch 16/50\n",
      "163/163 [==============================] - ETA: 0s - loss: 0.2629 - accuracy: 0.9110\n",
      "Epoch 16: val_loss did not improve from 0.35561\n",
      "163/163 [==============================] - 115s 707ms/step - loss: 0.2629 - accuracy: 0.9110 - val_loss: 0.3585 - val_accuracy: 0.8668 - lr: 1.0000e-05\n",
      "Epoch 17/50\n",
      "163/163 [==============================] - ETA: 0s - loss: 0.2556 - accuracy: 0.9139\n",
      "Epoch 17: val_loss improved from 0.35561 to 0.34554, saving model to best_model.h5\n",
      "163/163 [==============================] - 117s 720ms/step - loss: 0.2556 - accuracy: 0.9139 - val_loss: 0.3455 - val_accuracy: 0.8651 - lr: 1.0000e-05\n",
      "Epoch 18/50\n",
      "163/163 [==============================] - ETA: 0s - loss: 0.2502 - accuracy: 0.9156\n",
      "Epoch 18: val_loss did not improve from 0.34554\n",
      "163/163 [==============================] - 118s 725ms/step - loss: 0.2502 - accuracy: 0.9156 - val_loss: 0.3624 - val_accuracy: 0.8635 - lr: 1.0000e-05\n",
      "Epoch 19/50\n",
      "163/163 [==============================] - ETA: 0s - loss: 0.2495 - accuracy: 0.9135\n",
      "Epoch 19: val_loss did not improve from 0.34554\n",
      "163/163 [==============================] - 118s 723ms/step - loss: 0.2495 - accuracy: 0.9135 - val_loss: 0.3498 - val_accuracy: 0.8668 - lr: 1.0000e-05\n",
      "Epoch 20/50\n",
      "163/163 [==============================] - ETA: 0s - loss: 0.2449 - accuracy: 0.9162\n",
      "Epoch 20: val_loss did not improve from 0.34554\n",
      "163/163 [==============================] - 119s 730ms/step - loss: 0.2449 - accuracy: 0.9162 - val_loss: 0.3463 - val_accuracy: 0.8701 - lr: 1.0000e-05\n",
      "Epoch 21/50\n",
      "163/163 [==============================] - ETA: 0s - loss: 0.2424 - accuracy: 0.9210\n",
      "Epoch 21: val_loss did not improve from 0.34554\n",
      "163/163 [==============================] - 115s 709ms/step - loss: 0.2424 - accuracy: 0.9210 - val_loss: 0.3483 - val_accuracy: 0.8635 - lr: 1.0000e-05\n",
      "Epoch 22/50\n",
      "163/163 [==============================] - ETA: 0s - loss: 0.2460 - accuracy: 0.9156\n",
      "Epoch 22: val_loss improved from 0.34554 to 0.33908, saving model to best_model.h5\n",
      "163/163 [==============================] - 113s 695ms/step - loss: 0.2460 - accuracy: 0.9156 - val_loss: 0.3391 - val_accuracy: 0.8651 - lr: 1.0000e-05\n",
      "Epoch 23/50\n",
      "163/163 [==============================] - ETA: 0s - loss: 0.2414 - accuracy: 0.9201\n",
      "Epoch 23: val_loss did not improve from 0.33908\n",
      "163/163 [==============================] - 117s 717ms/step - loss: 0.2414 - accuracy: 0.9201 - val_loss: 0.3611 - val_accuracy: 0.8618 - lr: 1.0000e-05\n",
      "Epoch 24/50\n",
      "163/163 [==============================] - ETA: 0s - loss: 0.2329 - accuracy: 0.9271\n",
      "Epoch 24: val_loss did not improve from 0.33908\n",
      "163/163 [==============================] - 112s 687ms/step - loss: 0.2329 - accuracy: 0.9271 - val_loss: 0.3701 - val_accuracy: 0.8602 - lr: 1.0000e-05\n",
      "Epoch 25/50\n",
      "163/163 [==============================] - ETA: 0s - loss: 0.2389 - accuracy: 0.9176\n",
      "Epoch 25: val_loss improved from 0.33908 to 0.32795, saving model to best_model.h5\n",
      "163/163 [==============================] - 115s 704ms/step - loss: 0.2389 - accuracy: 0.9176 - val_loss: 0.3280 - val_accuracy: 0.8750 - lr: 1.0000e-05\n",
      "Epoch 26/50\n",
      "163/163 [==============================] - ETA: 0s - loss: 0.2346 - accuracy: 0.9181\n",
      "Epoch 26: val_loss did not improve from 0.32795\n",
      "163/163 [==============================] - 111s 682ms/step - loss: 0.2346 - accuracy: 0.9181 - val_loss: 0.3454 - val_accuracy: 0.8701 - lr: 1.0000e-05\n",
      "Epoch 27/50\n",
      "163/163 [==============================] - ETA: 0s - loss: 0.2361 - accuracy: 0.9166\n",
      "Epoch 27: val_loss did not improve from 0.32795\n",
      "163/163 [==============================] - 114s 702ms/step - loss: 0.2361 - accuracy: 0.9166 - val_loss: 0.3364 - val_accuracy: 0.8717 - lr: 1.0000e-05\n",
      "Epoch 28/50\n",
      "163/163 [==============================] - ETA: 0s - loss: 0.2384 - accuracy: 0.9216\n",
      "Epoch 28: val_loss did not improve from 0.32795\n",
      "163/163 [==============================] - 116s 710ms/step - loss: 0.2384 - accuracy: 0.9216 - val_loss: 0.3403 - val_accuracy: 0.8717 - lr: 1.0000e-05\n",
      "Epoch 29/50\n",
      "163/163 [==============================] - ETA: 0s - loss: 0.2337 - accuracy: 0.9208\n",
      "Epoch 29: val_loss did not improve from 0.32795\n",
      "163/163 [==============================] - 115s 705ms/step - loss: 0.2337 - accuracy: 0.9208 - val_loss: 0.3393 - val_accuracy: 0.8668 - lr: 1.0000e-05\n",
      "Epoch 30/50\n",
      "163/163 [==============================] - ETA: 0s - loss: 0.2329 - accuracy: 0.9214\n",
      "Epoch 30: ReduceLROnPlateau reducing learning rate to 9.999999747378752e-07.\n",
      "\n",
      "Epoch 30: val_loss did not improve from 0.32795\n",
      "163/163 [==============================] - 115s 705ms/step - loss: 0.2329 - accuracy: 0.9214 - val_loss: 0.3539 - val_accuracy: 0.8618 - lr: 1.0000e-05\n",
      "Epoch 31/50\n",
      "163/163 [==============================] - ETA: 0s - loss: 0.2299 - accuracy: 0.9241\n",
      "Epoch 31: val_loss did not improve from 0.32795\n",
      "163/163 [==============================] - 116s 710ms/step - loss: 0.2299 - accuracy: 0.9241 - val_loss: 0.3294 - val_accuracy: 0.8668 - lr: 1.0000e-06\n",
      "Epoch 32/50\n",
      "163/163 [==============================] - ETA: 0s - loss: 0.2336 - accuracy: 0.9185\n",
      "Epoch 32: val_loss did not improve from 0.32795\n",
      "163/163 [==============================] - 115s 705ms/step - loss: 0.2336 - accuracy: 0.9185 - val_loss: 0.3303 - val_accuracy: 0.8668 - lr: 1.0000e-06\n",
      "Epoch 33/50\n",
      "163/163 [==============================] - ETA: 0s - loss: 0.2267 - accuracy: 0.9266\n",
      "Epoch 33: val_loss did not improve from 0.32795\n",
      "163/163 [==============================] - 117s 716ms/step - loss: 0.2267 - accuracy: 0.9266 - val_loss: 0.3308 - val_accuracy: 0.8717 - lr: 1.0000e-06\n",
      "Epoch 34/50\n",
      "163/163 [==============================] - ETA: 0s - loss: 0.2257 - accuracy: 0.9233\n",
      "Epoch 34: val_loss did not improve from 0.32795\n",
      "163/163 [==============================] - 116s 715ms/step - loss: 0.2257 - accuracy: 0.9233 - val_loss: 0.3286 - val_accuracy: 0.8701 - lr: 1.0000e-06\n",
      "Epoch 35/50\n",
      "163/163 [==============================] - ETA: 0s - loss: 0.2250 - accuracy: 0.9271\n",
      "Epoch 35: val_loss improved from 0.32795 to 0.32332, saving model to best_model.h5\n",
      "163/163 [==============================] - 116s 714ms/step - loss: 0.2250 - accuracy: 0.9271 - val_loss: 0.3233 - val_accuracy: 0.8734 - lr: 1.0000e-06\n",
      "Epoch 36/50\n",
      "163/163 [==============================] - ETA: 0s - loss: 0.2314 - accuracy: 0.9237\n",
      "Epoch 36: val_loss did not improve from 0.32332\n",
      "163/163 [==============================] - 118s 722ms/step - loss: 0.2314 - accuracy: 0.9237 - val_loss: 0.3342 - val_accuracy: 0.8701 - lr: 1.0000e-06\n",
      "Epoch 37/50\n",
      "163/163 [==============================] - ETA: 0s - loss: 0.2277 - accuracy: 0.9241\n",
      "Epoch 37: val_loss improved from 0.32332 to 0.32028, saving model to best_model.h5\n",
      "163/163 [==============================] - 117s 718ms/step - loss: 0.2277 - accuracy: 0.9241 - val_loss: 0.3203 - val_accuracy: 0.8750 - lr: 1.0000e-06\n",
      "Epoch 38/50\n",
      "163/163 [==============================] - ETA: 0s - loss: 0.2301 - accuracy: 0.9239\n",
      "Epoch 38: val_loss did not improve from 0.32028\n",
      "163/163 [==============================] - 115s 708ms/step - loss: 0.2301 - accuracy: 0.9239 - val_loss: 0.3233 - val_accuracy: 0.8684 - lr: 1.0000e-06\n",
      "Epoch 39/50\n",
      "163/163 [==============================] - ETA: 0s - loss: 0.2262 - accuracy: 0.9231\n",
      "Epoch 39: val_loss did not improve from 0.32028\n",
      "163/163 [==============================] - 117s 719ms/step - loss: 0.2262 - accuracy: 0.9231 - val_loss: 0.3344 - val_accuracy: 0.8635 - lr: 1.0000e-06\n",
      "Epoch 40/50\n",
      "163/163 [==============================] - ETA: 0s - loss: 0.2252 - accuracy: 0.9252\n",
      "Epoch 40: val_loss did not improve from 0.32028\n",
      "163/163 [==============================] - 112s 688ms/step - loss: 0.2252 - accuracy: 0.9252 - val_loss: 0.3378 - val_accuracy: 0.8618 - lr: 1.0000e-06\n",
      "Epoch 41/50\n",
      "163/163 [==============================] - ETA: 0s - loss: 0.2276 - accuracy: 0.9264\n",
      "Epoch 41: val_loss did not improve from 0.32028\n",
      "163/163 [==============================] - 112s 690ms/step - loss: 0.2276 - accuracy: 0.9264 - val_loss: 0.3322 - val_accuracy: 0.8618 - lr: 1.0000e-06\n",
      "Epoch 42/50\n",
      "163/163 [==============================] - ETA: 0s - loss: 0.2287 - accuracy: 0.9224\n",
      "Epoch 42: ReduceLROnPlateau reducing learning rate to 9.999999974752428e-08.\n",
      "\n",
      "Epoch 42: val_loss did not improve from 0.32028\n",
      "163/163 [==============================] - 116s 710ms/step - loss: 0.2287 - accuracy: 0.9224 - val_loss: 0.3301 - val_accuracy: 0.8684 - lr: 1.0000e-06\n",
      "Epoch 43/50\n",
      "163/163 [==============================] - ETA: 0s - loss: 0.2299 - accuracy: 0.9229\n",
      "Epoch 43: val_loss did not improve from 0.32028\n",
      "163/163 [==============================] - 116s 711ms/step - loss: 0.2299 - accuracy: 0.9229 - val_loss: 0.3274 - val_accuracy: 0.8750 - lr: 1.0000e-07\n",
      "Epoch 44/50\n",
      "163/163 [==============================] - ETA: 0s - loss: 0.2233 - accuracy: 0.9279\n",
      "Epoch 44: val_loss did not improve from 0.32028\n",
      "163/163 [==============================] - 117s 719ms/step - loss: 0.2233 - accuracy: 0.9279 - val_loss: 0.3325 - val_accuracy: 0.8668 - lr: 1.0000e-07\n",
      "Epoch 45/50\n",
      "163/163 [==============================] - ETA: 0s - loss: 0.2301 - accuracy: 0.9220\n",
      "Epoch 45: val_loss did not improve from 0.32028\n",
      "163/163 [==============================] - 118s 725ms/step - loss: 0.2301 - accuracy: 0.9220 - val_loss: 0.3330 - val_accuracy: 0.8668 - lr: 1.0000e-07\n",
      "Epoch 46/50\n",
      "163/163 [==============================] - ETA: 0s - loss: 0.2303 - accuracy: 0.9218\n",
      "Epoch 46: val_loss did not improve from 0.32028\n",
      "163/163 [==============================] - 118s 722ms/step - loss: 0.2303 - accuracy: 0.9218 - val_loss: 0.3289 - val_accuracy: 0.8717 - lr: 1.0000e-07\n",
      "Epoch 47/50\n",
      "163/163 [==============================] - ETA: 0s - loss: 0.2222 - accuracy: 0.9243\n",
      "Epoch 47: ReduceLROnPlateau reducing learning rate to 1.0000000116860975e-08.\n",
      "\n",
      "Epoch 47: val_loss did not improve from 0.32028\n",
      "163/163 [==============================] - 119s 730ms/step - loss: 0.2222 - accuracy: 0.9243 - val_loss: 0.3228 - val_accuracy: 0.8734 - lr: 1.0000e-07\n",
      "Epoch 47: early stopping\n"
     ]
    }
   ],
   "source": [
    "# Entrenando el modelo\n",
    "history = model.fit(train_generator,\n",
    "                    steps_per_epoch=train_generator.samples // batch_size,\n",
    "                    epochs=epochs,\n",
    "                    validation_data=test_generator,\n",
    "                    validation_steps=test_generator.samples // batch_size,\n",
    "                    callbacks=[early_stopping, reduce_lr, model_checkpoint])"
   ]
  },
  {
   "cell_type": "code",
   "execution_count": 10,
   "id": "8f66ebde",
   "metadata": {
    "execution": {
     "iopub.execute_input": "2023-04-06T01:57:27.514870Z",
     "iopub.status.busy": "2023-04-06T01:57:27.514491Z",
     "iopub.status.idle": "2023-04-06T01:57:38.147107Z",
     "shell.execute_reply": "2023-04-06T01:57:38.145682Z"
    },
    "papermill": {
     "duration": 11.115487,
     "end_time": "2023-04-06T01:57:38.149540",
     "exception": false,
     "start_time": "2023-04-06T01:57:27.034053",
     "status": "completed"
    },
    "tags": []
   },
   "outputs": [
    {
     "name": "stdout",
     "output_type": "stream",
     "text": [
      "20/20 [==============================] - 8s 375ms/step - loss: 0.3287 - accuracy: 0.8702\n",
      "Test accuracy: 0.870192289352417\n"
     ]
    }
   ],
   "source": [
    "# Evaluar rendimiento del modelo en el conjunto de prueba\n",
    "test_loss, test_accuracy = model.evaluate(test_generator)\n",
    "print('Test accuracy:', test_accuracy)"
   ]
  },
  {
   "cell_type": "code",
   "execution_count": 11,
   "id": "c19cb0a2",
   "metadata": {
    "execution": {
     "iopub.execute_input": "2023-04-06T01:57:38.995634Z",
     "iopub.status.busy": "2023-04-06T01:57:38.994590Z",
     "iopub.status.idle": "2023-04-06T01:57:46.355513Z",
     "shell.execute_reply": "2023-04-06T01:57:46.354506Z"
    },
    "papermill": {
     "duration": 7.789021,
     "end_time": "2023-04-06T01:57:46.358021",
     "exception": false,
     "start_time": "2023-04-06T01:57:38.569000",
     "status": "completed"
    },
    "tags": []
   },
   "outputs": [
    {
     "name": "stdout",
     "output_type": "stream",
     "text": [
      "20/20 [==============================] - 7s 337ms/step\n"
     ]
    }
   ],
   "source": [
    "# Obtener las predicciones del modelo sobre los datos de prueba\n",
    "y_pred = model.predict(test_generator)\n",
    "# Convertir las predicciones a clases binarias (0 o 1)\n",
    "y_pred = np.round(y_pred)\n",
    "# Obtener las etiquetas reales de los datos de prueba\n",
    "y_true = test_generator.classes"
   ]
  },
  {
   "cell_type": "code",
   "execution_count": 12,
   "id": "3aa0c986",
   "metadata": {
    "execution": {
     "iopub.execute_input": "2023-04-06T01:57:47.258373Z",
     "iopub.status.busy": "2023-04-06T01:57:47.257987Z",
     "iopub.status.idle": "2023-04-06T01:57:47.267179Z",
     "shell.execute_reply": "2023-04-06T01:57:47.266123Z"
    },
    "papermill": {
     "duration": 0.432581,
     "end_time": "2023-04-06T01:57:47.269473",
     "exception": false,
     "start_time": "2023-04-06T01:57:46.836892",
     "status": "completed"
    },
    "tags": []
   },
   "outputs": [
    {
     "name": "stdout",
     "output_type": "stream",
     "text": [
      "Sensibilidad: 58.21%\n",
      "Especificidad: 35.04%\n"
     ]
    }
   ],
   "source": [
    "# Calcular la matriz de confusión\n",
    "confusion = confusion_matrix(y_true, y_pred)\n",
    "# Obtener la sensibilidad y especificidad a partir de la matriz de confusión\n",
    "tn, fp, fn, tp = confusion.ravel()\n",
    "sensibilidad = tp / (tp + fn)\n",
    "especificidad = tn / (tn + fp)\n",
    "print(\"Sensibilidad: {:.2f}%\".format(sensibilidad*100))\n",
    "print(\"Especificidad: {:.2f}%\".format(especificidad*100))"
   ]
  },
  {
   "cell_type": "code",
   "execution_count": 13,
   "id": "5c609004",
   "metadata": {
    "execution": {
     "iopub.execute_input": "2023-04-06T01:57:48.107238Z",
     "iopub.status.busy": "2023-04-06T01:57:48.106864Z",
     "iopub.status.idle": "2023-04-06T01:57:48.536311Z",
     "shell.execute_reply": "2023-04-06T01:57:48.535256Z"
    },
    "papermill": {
     "duration": 0.848346,
     "end_time": "2023-04-06T01:57:48.538452",
     "exception": false,
     "start_time": "2023-04-06T01:57:47.690106",
     "status": "completed"
    },
    "tags": []
   },
   "outputs": [
    {
     "data": {
      "image/png": "[encoded data removed]",
      "text/plain": [
       "<Figure size 640x480 with 1 Axes>"
      ]
     },
     "metadata": {},
     "output_type": "display_data"
    },
    {
     "data": {
      "image/png": "[encoded data removed]",
      "text/plain": [
       "<Figure size 640x480 with 1 Axes>"
      ]
     },
     "metadata": {},
     "output_type": "display_data"
    }
   ],
   "source": [
    "# Visualizar curvas de aprendizaje\n",
    "plt.plot(history.history['accuracy'])\n",
    "plt.plot(history.history['val_accuracy'])\n",
    "plt.title('Model accuracy')\n",
    "plt.ylabel('Accuracy')\n",
    "plt.xlabel('Epoch')\n",
    "plt.legend(['Train', 'Validation'], loc='upper left')\n",
    "plt.show()\n",
    "\n",
    "plt.plot(history.history['loss'])\n",
    "plt.plot(history.history['val_loss'])\n",
    "plt.title('Model loss')\n",
    "plt.ylabel('Loss')\n",
    "plt.xlabel('Epoch')\n",
    "plt.legend(['Train', 'Validation'], loc='upper left')\n",
    "plt.show()"
   ]
  }
 ],
 "metadata": {
  "kernelspec": {
   "display_name": "Python 3",
   "language": "python",
   "name": "python3"
  },
  "language_info": {
   "codemirror_mode": {
    "name": "ipython",
    "version": 3
   },
   "file_extension": ".py",
   "mimetype": "text/x-python",
   "name": "python",
   "nbconvert_exporter": "python",
   "pygments_lexer": "ipython3",
   "version": "3.7.12"
  },
  "papermill": {
   "default_parameters": {},
   "duration": 5648.862734,
   "end_time": "2023-04-06T01:57:52.654593",
   "environment_variables": {},
   "exception": null,
   "input_path": "__notebook__.ipynb",
   "output_path": "__notebook__.ipynb",
   "parameters": {},
   "start_time": "2023-04-06T00:23:43.791859",
   "version": "2.4.0"
  }
 },
 "nbformat": 4,
 "nbformat_minor": 5
}
