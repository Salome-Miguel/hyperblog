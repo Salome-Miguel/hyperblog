{
 "cells": [
  {
   "cell_type": "code",
   "execution_count": 1,
   "id": "326a005c",
   "metadata": {
    "_cell_guid": "b1076dfc-b9ad-4769-8c92-a6c4dae69d19",
    "_uuid": "8f2839f25d086af736a60e9eeb907d3b93b6e0e5",
    "execution": {
     "iopub.execute_input": "2023-04-20T20:20:39.011228Z",
     "iopub.status.busy": "2023-04-20T20:20:39.010702Z",
     "iopub.status.idle": "2023-04-20T20:22:05.822492Z",
     "shell.execute_reply": "2023-04-20T20:22:05.821261Z"
    },
    "papermill": {
     "duration": 86.820663,
     "end_time": "2023-04-20T20:22:05.825272",
     "exception": false,
     "start_time": "2023-04-20T20:20:39.004609",
     "status": "completed"
    },
    "tags": []
   },
   "outputs": [
    {
     "name": "stdout",
     "output_type": "stream",
     "text": [
      "Collecting tensorflow==2.7.0\r\n",
      "  Downloading tensorflow-2.7.0-cp37-cp37m-manylinux2010_x86_64.whl (489.6 MB)\r\n",
      "\u001b[2K     \u001b[90m━━━━━━━━━━━━━━━━━━━━━━━━━━━━━━━━━━━━━━━\u001b[0m \u001b[32m489.6/489.6 MB\u001b[0m \u001b[31m2.3 MB/s\u001b[0m eta \u001b[36m0:00:00\u001b[0m\r\n",
      "\u001b[?25hRequirement already satisfied: termcolor>=1.1.0 in /opt/conda/lib/python3.7/site-packages (from tensorflow==2.7.0) (2.2.0)\r\n",
      "Requirement already satisfied: opt-einsum>=2.3.2 in /opt/conda/lib/python3.7/site-packages (from tensorflow==2.7.0) (3.3.0)\r\n",
      "Requirement already satisfied: protobuf>=3.9.2 in /opt/conda/lib/python3.7/site-packages (from tensorflow==2.7.0) (3.20.3)\r\n",
      "Requirement already satisfied: six>=1.12.0 in /opt/conda/lib/python3.7/site-packages (from tensorflow==2.7.0) (1.16.0)\r\n",
      "Requirement already satisfied: gast<0.5.0,>=0.2.1 in /opt/conda/lib/python3.7/site-packages (from tensorflow==2.7.0) (0.4.0)\r\n",
      "Requirement already satisfied: grpcio<2.0,>=1.24.3 in /opt/conda/lib/python3.7/site-packages (from tensorflow==2.7.0) (1.51.1)\r\n",
      "Collecting flatbuffers<3.0,>=1.12\r\n",
      "  Downloading flatbuffers-2.0.7-py2.py3-none-any.whl (26 kB)\r\n",
      "Requirement already satisfied: typing-extensions>=3.6.6 in /opt/conda/lib/python3.7/site-packages (from tensorflow==2.7.0) (4.4.0)\r\n",
      "Requirement already satisfied: wheel<1.0,>=0.32.0 in /opt/conda/lib/python3.7/site-packages (from tensorflow==2.7.0) (0.38.4)\r\n",
      "Requirement already satisfied: libclang>=9.0.1 in /opt/conda/lib/python3.7/site-packages (from tensorflow==2.7.0) (15.0.6.1)\r\n",
      "Requirement already satisfied: absl-py>=0.4.0 in /opt/conda/lib/python3.7/site-packages (from tensorflow==2.7.0) (1.4.0)\r\n",
      "Requirement already satisfied: google-pasta>=0.1.1 in /opt/conda/lib/python3.7/site-packages (from tensorflow==2.7.0) (0.2.0)\r\n",
      "Collecting keras-preprocessing>=1.1.1\r\n",
      "  Downloading Keras_Preprocessing-1.1.2-py2.py3-none-any.whl (42 kB)\r\n",
      "\u001b[2K     \u001b[90m━━━━━━━━━━━━━━━━━━━━━━━━━━━━━━━━━━━━━━━━\u001b[0m \u001b[32m42.6/42.6 kB\u001b[0m \u001b[31m4.3 MB/s\u001b[0m eta \u001b[36m0:00:00\u001b[0m\r\n",
      "\u001b[?25hRequirement already satisfied: h5py>=2.9.0 in /opt/conda/lib/python3.7/site-packages (from tensorflow==2.7.0) (3.8.0)\r\n",
      "Collecting keras<2.8,>=2.7.0rc0\r\n",
      "  Downloading keras-2.7.0-py2.py3-none-any.whl (1.3 MB)\r\n",
      "\u001b[2K     \u001b[90m━━━━━━━━━━━━━━━━━━━━━━━━━━━━━━━━━━━━━━━━\u001b[0m \u001b[32m1.3/1.3 MB\u001b[0m \u001b[31m66.5 MB/s\u001b[0m eta \u001b[36m0:00:00\u001b[0m\r\n",
      "\u001b[?25hRequirement already satisfied: astunparse>=1.6.0 in /opt/conda/lib/python3.7/site-packages (from tensorflow==2.7.0) (1.6.3)\r\n",
      "Collecting tensorflow-estimator<2.8,~=2.7.0rc0\r\n",
      "  Downloading tensorflow_estimator-2.7.0-py2.py3-none-any.whl (463 kB)\r\n",
      "\u001b[2K     \u001b[90m━━━━━━━━━━━━━━━━━━━━━━━━━━━━━━━━━━━━━━\u001b[0m \u001b[32m463.1/463.1 kB\u001b[0m \u001b[31m39.0 MB/s\u001b[0m eta \u001b[36m0:00:00\u001b[0m\r\n",
      "\u001b[?25hRequirement already satisfied: tensorflow-io-gcs-filesystem>=0.21.0 in /opt/conda/lib/python3.7/site-packages (from tensorflow==2.7.0) (0.29.0)\r\n",
      "Requirement already satisfied: numpy>=1.14.5 in /opt/conda/lib/python3.7/site-packages (from tensorflow==2.7.0) (1.21.6)\r\n",
      "Requirement already satisfied: tensorboard~=2.6 in /opt/conda/lib/python3.7/site-packages (from tensorflow==2.7.0) (2.11.2)\r\n",
      "Requirement already satisfied: wrapt>=1.11.0 in /opt/conda/lib/python3.7/site-packages (from tensorflow==2.7.0) (1.14.1)\r\n",
      "Requirement already satisfied: setuptools>=41.0.0 in /opt/conda/lib/python3.7/site-packages (from tensorboard~=2.6->tensorflow==2.7.0) (59.8.0)\r\n",
      "Requirement already satisfied: google-auth-oauthlib<0.5,>=0.4.1 in /opt/conda/lib/python3.7/site-packages (from tensorboard~=2.6->tensorflow==2.7.0) (0.4.6)\r\n",
      "Requirement already satisfied: tensorboard-plugin-wit>=1.6.0 in /opt/conda/lib/python3.7/site-packages (from tensorboard~=2.6->tensorflow==2.7.0) (1.8.1)\r\n",
      "Requirement already satisfied: werkzeug>=1.0.1 in /opt/conda/lib/python3.7/site-packages (from tensorboard~=2.6->tensorflow==2.7.0) (2.2.3)\r\n",
      "Requirement already satisfied: markdown>=2.6.8 in /opt/conda/lib/python3.7/site-packages (from tensorboard~=2.6->tensorflow==2.7.0) (3.4.1)\r\n",
      "Requirement already satisfied: requests<3,>=2.21.0 in /opt/conda/lib/python3.7/site-packages (from tensorboard~=2.6->tensorflow==2.7.0) (2.28.2)\r\n",
      "Requirement already satisfied: google-auth<3,>=1.6.3 in /opt/conda/lib/python3.7/site-packages (from tensorboard~=2.6->tensorflow==2.7.0) (1.35.0)\r\n",
      "Requirement already satisfied: tensorboard-data-server<0.7.0,>=0.6.0 in /opt/conda/lib/python3.7/site-packages (from tensorboard~=2.6->tensorflow==2.7.0) (0.6.1)\r\n",
      "Requirement already satisfied: pyasn1-modules>=0.2.1 in /opt/conda/lib/python3.7/site-packages (from google-auth<3,>=1.6.3->tensorboard~=2.6->tensorflow==2.7.0) (0.2.8)\r\n",
      "Requirement already satisfied: rsa<5,>=3.1.4 in /opt/conda/lib/python3.7/site-packages (from google-auth<3,>=1.6.3->tensorboard~=2.6->tensorflow==2.7.0) (4.9)\r\n",
      "Requirement already satisfied: cachetools<5.0,>=2.0.0 in /opt/conda/lib/python3.7/site-packages (from google-auth<3,>=1.6.3->tensorboard~=2.6->tensorflow==2.7.0) (4.2.4)\r\n",
      "Requirement already satisfied: requests-oauthlib>=0.7.0 in /opt/conda/lib/python3.7/site-packages (from google-auth-oauthlib<0.5,>=0.4.1->tensorboard~=2.6->tensorflow==2.7.0) (1.3.1)\r\n",
      "Requirement already satisfied: importlib-metadata>=4.4 in /opt/conda/lib/python3.7/site-packages (from markdown>=2.6.8->tensorboard~=2.6->tensorflow==2.7.0) (4.11.4)\r\n",
      "Requirement already satisfied: certifi>=2017.4.17 in /opt/conda/lib/python3.7/site-packages (from requests<3,>=2.21.0->tensorboard~=2.6->tensorflow==2.7.0) (2022.12.7)\r\n",
      "Requirement already satisfied: idna<4,>=2.5 in /opt/conda/lib/python3.7/site-packages (from requests<3,>=2.21.0->tensorboard~=2.6->tensorflow==2.7.0) (3.4)\r\n",
      "Requirement already satisfied: urllib3<1.27,>=1.21.1 in /opt/conda/lib/python3.7/site-packages (from requests<3,>=2.21.0->tensorboard~=2.6->tensorflow==2.7.0) (1.26.14)\r\n",
      "Requirement already satisfied: charset-normalizer<4,>=2 in /opt/conda/lib/python3.7/site-packages (from requests<3,>=2.21.0->tensorboard~=2.6->tensorflow==2.7.0) (2.1.1)\r\n",
      "Requirement already satisfied: MarkupSafe>=2.1.1 in /opt/conda/lib/python3.7/site-packages (from werkzeug>=1.0.1->tensorboard~=2.6->tensorflow==2.7.0) (2.1.1)\r\n",
      "Requirement already satisfied: zipp>=0.5 in /opt/conda/lib/python3.7/site-packages (from importlib-metadata>=4.4->markdown>=2.6.8->tensorboard~=2.6->tensorflow==2.7.0) (3.11.0)\r\n",
      "Requirement already satisfied: pyasn1<0.5.0,>=0.4.6 in /opt/conda/lib/python3.7/site-packages (from pyasn1-modules>=0.2.1->google-auth<3,>=1.6.3->tensorboard~=2.6->tensorflow==2.7.0) (0.4.8)\r\n",
      "Requirement already satisfied: oauthlib>=3.0.0 in /opt/conda/lib/python3.7/site-packages (from requests-oauthlib>=0.7.0->google-auth-oauthlib<0.5,>=0.4.1->tensorboard~=2.6->tensorflow==2.7.0) (3.2.2)\r\n",
      "Installing collected packages: tensorflow-estimator, keras, flatbuffers, keras-preprocessing, tensorflow\r\n",
      "  Attempting uninstall: tensorflow-estimator\r\n",
      "    Found existing installation: tensorflow-estimator 2.11.0\r\n",
      "    Uninstalling tensorflow-estimator-2.11.0:\r\n",
      "      Successfully uninstalled tensorflow-estimator-2.11.0\r\n",
      "  Attempting uninstall: keras\r\n",
      "    Found existing installation: keras 2.11.0\r\n",
      "    Uninstalling keras-2.11.0:\r\n",
      "      Successfully uninstalled keras-2.11.0\r\n",
      "  Attempting uninstall: flatbuffers\r\n",
      "    Found existing installation: flatbuffers 23.1.21\r\n",
      "    Uninstalling flatbuffers-23.1.21:\r\n",
      "      Successfully uninstalled flatbuffers-23.1.21\r\n",
      "  Attempting uninstall: tensorflow\r\n",
      "    Found existing installation: tensorflow 2.11.0\r\n",
      "    Uninstalling tensorflow-2.11.0:\r\n",
      "      Successfully uninstalled tensorflow-2.11.0\r\n",
      "\u001b[31mERROR: pip's dependency resolver does not currently take into account all the packages that are installed. This behaviour is the source of the following dependency conflicts.\r\n",
      "tfx-bsl 1.12.0 requires google-api-python-client<2,>=1.7.11, but you have google-api-python-client 2.83.0 which is incompatible.\r\n",
      "tfx-bsl 1.12.0 requires pyarrow<7,>=6, but you have pyarrow 5.0.0 which is incompatible.\r\n",
      "tfx-bsl 1.12.0 requires tensorflow<3,>=2.11, but you have tensorflow 2.7.0 which is incompatible.\r\n",
      "tensorflow-transform 1.12.0 requires pyarrow<7,>=6, but you have pyarrow 5.0.0 which is incompatible.\r\n",
      "tensorflow-transform 1.12.0 requires tensorflow<2.12,>=2.11.0, but you have tensorflow 2.7.0 which is incompatible.\r\n",
      "tensorflow-text 2.11.0 requires tensorflow<2.12,>=2.11.0; platform_machine != \"arm64\" or platform_system != \"Darwin\", but you have tensorflow 2.7.0 which is incompatible.\r\n",
      "tensorflow-serving-api 2.11.0 requires protobuf<3.20,>=3.9.2, but you have protobuf 3.20.3 which is incompatible.\r\n",
      "tensorflow-serving-api 2.11.0 requires tensorflow<3,>=2.11.0, but you have tensorflow 2.7.0 which is incompatible.\r\n",
      "tensorflow-decision-forests 1.2.0 requires tensorflow~=2.11.0, but you have tensorflow 2.7.0 which is incompatible.\u001b[0m\u001b[31m\r\n",
      "\u001b[0mSuccessfully installed flatbuffers-2.0.7 keras-2.7.0 keras-preprocessing-1.1.2 tensorflow-2.7.0 tensorflow-estimator-2.7.0\r\n",
      "\u001b[33mWARNING: Running pip as the 'root' user can result in broken permissions and conflicting behaviour with the system package manager. It is recommended to use a virtual environment instead: https://pip.pypa.io/warnings/venv\u001b[0m\u001b[33m\r\n",
      "\u001b[0mCollecting tensorflow-addons==0.13.0\r\n",
      "  Downloading tensorflow_addons-0.13.0-cp37-cp37m-manylinux2010_x86_64.whl (679 kB)\r\n",
      "\u001b[2K     \u001b[90m━━━━━━━━━━━━━━━━━━━━━━━━━━━━━━━━━━━━━━\u001b[0m \u001b[32m679.9/679.9 kB\u001b[0m \u001b[31m10.8 MB/s\u001b[0m eta \u001b[36m0:00:00\u001b[0m\r\n",
      "\u001b[?25hRequirement already satisfied: typeguard>=2.7 in /opt/conda/lib/python3.7/site-packages (from tensorflow-addons==0.13.0) (2.13.3)\r\n",
      "Installing collected packages: tensorflow-addons\r\n",
      "  Attempting uninstall: tensorflow-addons\r\n",
      "    Found existing installation: tensorflow-addons 0.19.0\r\n",
      "    Uninstalling tensorflow-addons-0.19.0:\r\n",
      "      Successfully uninstalled tensorflow-addons-0.19.0\r\n",
      "Successfully installed tensorflow-addons-0.13.0\r\n",
      "\u001b[33mWARNING: Running pip as the 'root' user can result in broken permissions and conflicting behaviour with the system package manager. It is recommended to use a virtual environment instead: https://pip.pypa.io/warnings/venv\u001b[0m\u001b[33m\r\n",
      "\u001b[0mCollecting keras==2.4.3\r\n",
      "  Downloading Keras-2.4.3-py2.py3-none-any.whl (36 kB)\r\n",
      "Requirement already satisfied: numpy>=1.9.1 in /opt/conda/lib/python3.7/site-packages (from keras==2.4.3) (1.21.6)\r\n",
      "Requirement already satisfied: scipy>=0.14 in /opt/conda/lib/python3.7/site-packages (from keras==2.4.3) (1.7.3)\r\n",
      "Requirement already satisfied: pyyaml in /opt/conda/lib/python3.7/site-packages (from keras==2.4.3) (6.0)\r\n",
      "Requirement already satisfied: h5py in /opt/conda/lib/python3.7/site-packages (from keras==2.4.3) (3.8.0)\r\n",
      "Installing collected packages: keras\r\n",
      "  Attempting uninstall: keras\r\n",
      "    Found existing installation: keras 2.7.0\r\n",
      "    Uninstalling keras-2.7.0:\r\n",
      "      Successfully uninstalled keras-2.7.0\r\n",
      "\u001b[31mERROR: pip's dependency resolver does not currently take into account all the packages that are installed. This behaviour is the source of the following dependency conflicts.\r\n",
      "tensorflow 2.7.0 requires keras<2.8,>=2.7.0rc0, but you have keras 2.4.3 which is incompatible.\r\n",
      "tensorflow-transform 1.12.0 requires pyarrow<7,>=6, but you have pyarrow 5.0.0 which is incompatible.\r\n",
      "tensorflow-transform 1.12.0 requires tensorflow<2.12,>=2.11.0, but you have tensorflow 2.7.0 which is incompatible.\r\n",
      "tensorflow-text 2.11.0 requires tensorflow<2.12,>=2.11.0; platform_machine != \"arm64\" or platform_system != \"Darwin\", but you have tensorflow 2.7.0 which is incompatible.\r\n",
      "tensorflow-serving-api 2.11.0 requires protobuf<3.20,>=3.9.2, but you have protobuf 3.20.3 which is incompatible.\r\n",
      "tensorflow-serving-api 2.11.0 requires tensorflow<3,>=2.11.0, but you have tensorflow 2.7.0 which is incompatible.\r\n",
      "tensorflow-decision-forests 1.2.0 requires tensorflow~=2.11.0, but you have tensorflow 2.7.0 which is incompatible.\u001b[0m\u001b[31m\r\n",
      "\u001b[0mSuccessfully installed keras-2.4.3\r\n",
      "\u001b[33mWARNING: Running pip as the 'root' user can result in broken permissions and conflicting behaviour with the system package manager. It is recommended to use a virtual environment instead: https://pip.pypa.io/warnings/venv\u001b[0m\u001b[33m\r\n",
      "\u001b[0m"
     ]
    }
   ],
   "source": [
    "!pip install tensorflow==2.7.0\n",
    "\n",
    "!pip install tensorflow-addons==0.13.0\n",
    "\n",
    "!pip install keras==2.4.3"
   ]
  },
  {
   "cell_type": "code",
   "execution_count": 2,
   "id": "bd2735c8",
   "metadata": {
    "execution": {
     "iopub.execute_input": "2023-04-20T20:22:05.854061Z",
     "iopub.status.busy": "2023-04-20T20:22:05.852198Z",
     "iopub.status.idle": "2023-04-20T20:22:10.378338Z",
     "shell.execute_reply": "2023-04-20T20:22:10.377154Z"
    },
    "papermill": {
     "duration": 4.550068,
     "end_time": "2023-04-20T20:22:10.388550",
     "exception": false,
     "start_time": "2023-04-20T20:22:05.838482",
     "status": "completed"
    },
    "tags": []
   },
   "outputs": [
    {
     "name": "stderr",
     "output_type": "stream",
     "text": [
      "/opt/conda/lib/python3.7/site-packages/tensorflow_addons/utils/ensure_tf_install.py:67: UserWarning: Tensorflow Addons supports using Python ops for all Tensorflow versions above or equal to 2.3.0 and strictly below 2.6.0 (nightly versions are not supported). \n",
      " The versions of TensorFlow you are currently using is 2.7.0 and is not supported. \n",
      "Some things might work, some things might not.\n",
      "If you were to encounter a bug, do not file an issue.\n",
      "If you want to make sure you're using a tested and supported configuration, either change the TensorFlow version or the TensorFlow Addons's version. \n",
      "You can find the compatibility matrix in TensorFlow Addon's readme:\n",
      "https://github.com/tensorflow/addons\n",
      "  UserWarning,\n"
     ]
    }
   ],
   "source": [
    "import matplotlib.pyplot as plt\n",
    "import numpy as np\n",
    "import os\n",
    "import seaborn as sns\n",
    "import keras\n",
    "import tensorflow as tf\n",
    "from tensorflow.keras.callbacks import EarlyStopping, ModelCheckpoint, ReduceLROnPlateau\n",
    "from tensorflow.keras.layers import Dense, Dropout, Flatten, Input, Conv2D, MaxPooling2D, BatchNormalization, Activation\n",
    "from tensorflow.keras.models import Model\n",
    "from tensorflow_addons.optimizers import AdamW\n",
    "from tensorflow.keras.preprocessing.image import ImageDataGenerator\n",
    "from sklearn.metrics import classification_report, confusion_matrix"
   ]
  },
  {
   "cell_type": "code",
   "execution_count": 3,
   "id": "726b7f00",
   "metadata": {
    "execution": {
     "iopub.execute_input": "2023-04-20T20:22:10.436027Z",
     "iopub.status.busy": "2023-04-20T20:22:10.435366Z",
     "iopub.status.idle": "2023-04-20T20:22:10.441694Z",
     "shell.execute_reply": "2023-04-20T20:22:10.440838Z"
    },
    "papermill": {
     "duration": 0.036422,
     "end_time": "2023-04-20T20:22:10.446844",
     "exception": false,
     "start_time": "2023-04-20T20:22:10.410422",
     "status": "completed"
    },
    "tags": []
   },
   "outputs": [],
   "source": [
    "# Definir el generador de imágenes de entrenamiento con aumento de datos\n",
    "train_datagen = ImageDataGenerator(\n",
    "    rescale=1./255,\n",
    "    rotation_range=20,\n",
    "    width_shift_range=0.2,\n",
    "    height_shift_range=0.2,\n",
    "    shear_range=0.2,\n",
    "    zoom_range=0.2,\n",
    "    horizontal_flip=True,\n",
    "    fill_mode='nearest'\n",
    ")"
   ]
  },
  {
   "cell_type": "code",
   "execution_count": 4,
   "id": "508927f7",
   "metadata": {
    "execution": {
     "iopub.execute_input": "2023-04-20T20:22:10.487263Z",
     "iopub.status.busy": "2023-04-20T20:22:10.486874Z",
     "iopub.status.idle": "2023-04-20T20:22:14.749846Z",
     "shell.execute_reply": "2023-04-20T20:22:14.748595Z"
    },
    "papermill": {
     "duration": 4.285971,
     "end_time": "2023-04-20T20:22:14.752112",
     "exception": false,
     "start_time": "2023-04-20T20:22:10.466141",
     "status": "completed"
    },
    "tags": []
   },
   "outputs": [
    {
     "name": "stdout",
     "output_type": "stream",
     "text": [
      "Found 5216 images belonging to 2 classes.\n",
      "Found 624 images belonging to 2 classes.\n"
     ]
    }
   ],
   "source": [
    "# Definir el generador de imágenes de validación sin aumento de datos\n",
    "valid_datagen = ImageDataGenerator(rescale=1./255)\n",
    "\n",
    "train_dir = \"/kaggle/input/chest-xray-pneumonia/chest_xray/train\"\n",
    "valid_dir = \"/kaggle/input/chest-xray-pneumonia/chest_xray/test\"\n",
    "\n",
    "train_generator = train_datagen.flow_from_directory(\n",
    "    train_dir,\n",
    "    target_size=(224, 224),\n",
    "    batch_size=32,\n",
    "    class_mode=\"binary\"\n",
    ")\n",
    "\n",
    "valid_generator = valid_datagen.flow_from_directory(\n",
    "    valid_dir,\n",
    "    target_size=(224, 224),\n",
    "    batch_size=32,\n",
    "    class_mode=\"binary\"\n",
    ")"
   ]
  },
  {
   "cell_type": "code",
   "execution_count": 5,
   "id": "9c2d4703",
   "metadata": {
    "execution": {
     "iopub.execute_input": "2023-04-20T20:22:14.779015Z",
     "iopub.status.busy": "2023-04-20T20:22:14.778145Z",
     "iopub.status.idle": "2023-04-20T20:22:22.006176Z",
     "shell.execute_reply": "2023-04-20T20:22:22.005167Z"
    },
    "papermill": {
     "duration": 7.244363,
     "end_time": "2023-04-20T20:22:22.009124",
     "exception": false,
     "start_time": "2023-04-20T20:22:14.764761",
     "status": "completed"
    },
    "tags": []
   },
   "outputs": [
    {
     "name": "stdout",
     "output_type": "stream",
     "text": [
      "Downloading data from https://storage.googleapis.com/tensorflow/keras-applications/resnet/resnet50v2_weights_tf_dim_ordering_tf_kernels_notop.h5\n",
      "94674944/94668760 [==============================] - 4s 0us/step\n"
     ]
    }
   ],
   "source": [
    "# Cargar un modelo pre-entrenado y ajustar las últimas capas para el conjunto de datos actual\n",
    "base_model = tf.keras.applications.ResNet50V2(\n",
    "    include_top=False,\n",
    "    input_tensor=Input(shape=(224, 224, 3)),\n",
    "    weights='imagenet',\n",
    "    pooling='avg'\n",
    ")\n",
    "\n",
    "x = base_model.output\n",
    "x = Dense(512, activation='relu')(x)\n",
    "x = Dropout(0.5)(x)\n",
    "predictions = Dense(1, activation='sigmoid')(x)\n",
    "\n",
    "model = Model(inputs=base_model.input, outputs=predictions)"
   ]
  },
  {
   "cell_type": "code",
   "execution_count": 6,
   "id": "1c0c1da6",
   "metadata": {
    "execution": {
     "iopub.execute_input": "2023-04-20T20:22:22.043377Z",
     "iopub.status.busy": "2023-04-20T20:22:22.043030Z",
     "iopub.status.idle": "2023-04-20T20:22:22.052376Z",
     "shell.execute_reply": "2023-04-20T20:22:22.051365Z"
    },
    "papermill": {
     "duration": 0.028657,
     "end_time": "2023-04-20T20:22:22.054448",
     "exception": false,
     "start_time": "2023-04-20T20:22:22.025791",
     "status": "completed"
    },
    "tags": []
   },
   "outputs": [],
   "source": [
    "# Congelar las capas del modelo pre-entrenado para evitar que se modifiquen durante el entrenamiento\n",
    "for layer in base_model.layers:\n",
    "    layer.trainable = False"
   ]
  },
  {
   "cell_type": "code",
   "execution_count": 7,
   "id": "2b3d1034",
   "metadata": {
    "execution": {
     "iopub.execute_input": "2023-04-20T20:22:22.088177Z",
     "iopub.status.busy": "2023-04-20T20:22:22.087688Z",
     "iopub.status.idle": "2023-04-20T20:22:22.092708Z",
     "shell.execute_reply": "2023-04-20T20:22:22.091716Z"
    },
    "papermill": {
     "duration": 0.024263,
     "end_time": "2023-04-20T20:22:22.094834",
     "exception": false,
     "start_time": "2023-04-20T20:22:22.070571",
     "status": "completed"
    },
    "tags": []
   },
   "outputs": [],
   "source": [
    "# Definir callbacks\n",
    "early_stopping = EarlyStopping(patience=5, restore_best_weights=True)\n",
    "model_checkpoint = ModelCheckpoint('best_model.h5', save_best_only=True, verbose=1)\n",
    "reduce_lr = ReduceLROnPlateau(factor=0.1, patience=3, verbose=1)"
   ]
  },
  {
   "cell_type": "code",
   "execution_count": 8,
   "id": "a78bf841",
   "metadata": {
    "execution": {
     "iopub.execute_input": "2023-04-20T20:22:22.128782Z",
     "iopub.status.busy": "2023-04-20T20:22:22.127865Z",
     "iopub.status.idle": "2023-04-20T20:22:22.143148Z",
     "shell.execute_reply": "2023-04-20T20:22:22.142245Z"
    },
    "papermill": {
     "duration": 0.034417,
     "end_time": "2023-04-20T20:22:22.145249",
     "exception": false,
     "start_time": "2023-04-20T20:22:22.110832",
     "status": "completed"
    },
    "tags": []
   },
   "outputs": [],
   "source": [
    "# Compilar el modelo\n",
    "optimizer = AdamW(learning_rate=1e-4, weight_decay=1e-4)\n",
    "model.compile(optimizer=optimizer, loss='binary_crossentropy', metrics=['accuracy'])"
   ]
  },
  {
   "cell_type": "code",
   "execution_count": 9,
   "id": "6bb4966b",
   "metadata": {
    "execution": {
     "iopub.execute_input": "2023-04-20T20:22:22.180261Z",
     "iopub.status.busy": "2023-04-20T20:22:22.179259Z",
     "iopub.status.idle": "2023-04-20T20:57:14.307244Z",
     "shell.execute_reply": "2023-04-20T20:57:14.306119Z"
    },
    "papermill": {
     "duration": 2092.147586,
     "end_time": "2023-04-20T20:57:14.309557",
     "exception": false,
     "start_time": "2023-04-20T20:22:22.161971",
     "status": "completed"
    },
    "tags": []
   },
   "outputs": [
    {
     "name": "stdout",
     "output_type": "stream",
     "text": [
      "Epoch 1/20\n",
      "163/163 [==============================] - 172s 1s/step - loss: 0.2743 - accuracy: 0.8821 - val_loss: 0.2714 - val_accuracy: 0.8958\n",
      "\n",
      "Epoch 00001: val_loss improved from inf to 0.27138, saving model to best_model.h5\n"
     ]
    },
    {
     "name": "stderr",
     "output_type": "stream",
     "text": [
      "/opt/conda/lib/python3.7/site-packages/tensorflow/python/keras/utils/generic_utils.py:497: CustomMaskWarning: Custom mask layers require a config and must override get_config. When loading, the custom mask layer must be passed to the custom_objects argument.\n",
      "  category=CustomMaskWarning)\n"
     ]
    },
    {
     "name": "stdout",
     "output_type": "stream",
     "text": [
      "Epoch 2/20\n",
      "163/163 [==============================] - 125s 764ms/step - loss: 0.1829 - accuracy: 0.9279 - val_loss: 0.2582 - val_accuracy: 0.9022\n",
      "\n",
      "Epoch 00002: val_loss improved from 0.27138 to 0.25822, saving model to best_model.h5\n",
      "Epoch 3/20\n",
      "163/163 [==============================] - 124s 761ms/step - loss: 0.1750 - accuracy: 0.9314 - val_loss: 0.2502 - val_accuracy: 0.9087\n",
      "\n",
      "Epoch 00003: val_loss improved from 0.25822 to 0.25021, saving model to best_model.h5\n",
      "Epoch 4/20\n",
      "163/163 [==============================] - 125s 767ms/step - loss: 0.1577 - accuracy: 0.9404 - val_loss: 0.2568 - val_accuracy: 0.9071\n",
      "\n",
      "Epoch 00004: val_loss did not improve from 0.25021\n",
      "Epoch 5/20\n",
      "163/163 [==============================] - 125s 767ms/step - loss: 0.1483 - accuracy: 0.9459 - val_loss: 0.2484 - val_accuracy: 0.9022\n",
      "\n",
      "Epoch 00005: val_loss improved from 0.25021 to 0.24835, saving model to best_model.h5\n",
      "Epoch 6/20\n",
      "163/163 [==============================] - 126s 774ms/step - loss: 0.1404 - accuracy: 0.9479 - val_loss: 0.2470 - val_accuracy: 0.9054\n",
      "\n",
      "Epoch 00006: val_loss improved from 0.24835 to 0.24697, saving model to best_model.h5\n",
      "Epoch 7/20\n",
      "163/163 [==============================] - 125s 764ms/step - loss: 0.1375 - accuracy: 0.9477 - val_loss: 0.2462 - val_accuracy: 0.9006\n",
      "\n",
      "Epoch 00007: val_loss improved from 0.24697 to 0.24617, saving model to best_model.h5\n",
      "Epoch 8/20\n",
      "163/163 [==============================] - 127s 778ms/step - loss: 0.1349 - accuracy: 0.9473 - val_loss: 0.2644 - val_accuracy: 0.8974\n",
      "\n",
      "Epoch 00008: val_loss did not improve from 0.24617\n",
      "Epoch 9/20\n",
      "163/163 [==============================] - 126s 771ms/step - loss: 0.1282 - accuracy: 0.9507 - val_loss: 0.2763 - val_accuracy: 0.9006\n",
      "\n",
      "Epoch 00009: val_loss did not improve from 0.24617\n",
      "Epoch 10/20\n",
      "163/163 [==============================] - 127s 777ms/step - loss: 0.1277 - accuracy: 0.9534 - val_loss: 0.2524 - val_accuracy: 0.9006\n",
      "\n",
      "Epoch 00010: val_loss did not improve from 0.24617\n",
      "\n",
      "Epoch 00010: ReduceLROnPlateau reducing learning rate to 9.999999747378752e-06.\n",
      "Epoch 11/20\n",
      "163/163 [==============================] - 125s 764ms/step - loss: 0.1246 - accuracy: 0.9534 - val_loss: 0.2316 - val_accuracy: 0.9151\n",
      "\n",
      "Epoch 00011: val_loss improved from 0.24617 to 0.23164, saving model to best_model.h5\n",
      "Epoch 12/20\n",
      "163/163 [==============================] - 125s 769ms/step - loss: 0.1214 - accuracy: 0.9538 - val_loss: 0.2335 - val_accuracy: 0.9167\n",
      "\n",
      "Epoch 00012: val_loss did not improve from 0.23164\n",
      "Epoch 13/20\n",
      "163/163 [==============================] - 124s 760ms/step - loss: 0.1192 - accuracy: 0.9557 - val_loss: 0.2394 - val_accuracy: 0.9087\n",
      "\n",
      "Epoch 00013: val_loss did not improve from 0.23164\n",
      "Epoch 14/20\n",
      "163/163 [==============================] - 124s 758ms/step - loss: 0.1212 - accuracy: 0.9549 - val_loss: 0.2362 - val_accuracy: 0.9135\n",
      "\n",
      "Epoch 00014: val_loss did not improve from 0.23164\n",
      "\n",
      "Epoch 00014: ReduceLROnPlateau reducing learning rate to 9.999999747378752e-07.\n",
      "Epoch 15/20\n",
      "163/163 [==============================] - 130s 797ms/step - loss: 0.1233 - accuracy: 0.9509 - val_loss: 0.2362 - val_accuracy: 0.9119\n",
      "\n",
      "Epoch 00015: val_loss did not improve from 0.23164\n",
      "Epoch 16/20\n",
      "163/163 [==============================] - 125s 768ms/step - loss: 0.1226 - accuracy: 0.9559 - val_loss: 0.2362 - val_accuracy: 0.9119\n",
      "\n",
      "Epoch 00016: val_loss did not improve from 0.23164\n"
     ]
    }
   ],
   "source": [
    "# Entrenar el modelo\n",
    "history = model.fit(\n",
    "train_generator,\n",
    "epochs=20,\n",
    "steps_per_epoch=len(train_generator),\n",
    "validation_data=valid_generator,\n",
    "validation_steps=len(valid_generator),\n",
    "callbacks=[early_stopping, model_checkpoint, reduce_lr]\n",
    ")"
   ]
  },
  {
   "cell_type": "code",
   "execution_count": 10,
   "id": "87317db1",
   "metadata": {
    "execution": {
     "iopub.execute_input": "2023-04-20T20:57:14.625219Z",
     "iopub.status.busy": "2023-04-20T20:57:14.624845Z",
     "iopub.status.idle": "2023-04-20T20:57:31.205302Z",
     "shell.execute_reply": "2023-04-20T20:57:31.204335Z"
    },
    "papermill": {
     "duration": 16.740368,
     "end_time": "2023-04-20T20:57:31.207806",
     "exception": false,
     "start_time": "2023-04-20T20:57:14.467438",
     "status": "completed"
    },
    "tags": []
   },
   "outputs": [
    {
     "data": {
      "image/png": "[encoded data removed]",
      "text/plain": [
       "<Figure size 800x600 with 1 Axes>"
      ]
     },
     "metadata": {},
     "output_type": "display_data"
    }
   ],
   "source": [
    "#Graficar la curva de aprendizaje\n",
    "plt.figure(figsize=(8, 6))\n",
    "plt.plot(history.history['loss'], label='train_loss')\n",
    "plt.plot(history.history['val_loss'], label='val_loss')\n",
    "plt.plot(history.history['accuracy'], label='train_acc')\n",
    "plt.plot(history.history['val_accuracy'], label='val_acc')\n",
    "plt.legend()\n",
    "plt.xlabel('Epoch')\n",
    "plt.ylabel('Loss / Accuracy')\n",
    "plt.title('Training and Validation Curves')\n",
    "plt.show()"
   ]
  },
  {
   "cell_type": "code",
   "execution_count": 11,
   "id": "8e4f8b2b",
   "metadata": {
    "execution": {
     "iopub.execute_input": "2023-04-20T20:57:31.524443Z",
     "iopub.status.busy": "2023-04-20T20:57:31.523413Z",
     "iopub.status.idle": "2023-04-20T20:57:32.366242Z",
     "shell.execute_reply": "2023-04-20T20:57:32.365261Z"
    },
    "papermill": {
     "duration": 1.003163,
     "end_time": "2023-04-20T20:57:32.368424",
     "exception": false,
     "start_time": "2023-04-20T20:57:31.365261",
     "status": "completed"
    },
    "tags": []
   },
   "outputs": [
    {
     "name": "stdout",
     "output_type": "stream",
     "text": [
      "Found 16 images belonging to 2 classes.\n",
      "1/1 [==============================] - 0s 249ms/step - loss: 0.2247 - accuracy: 0.9375\n"
     ]
    },
    {
     "data": {
      "text/plain": [
       "[0.2247297167778015, 0.9375]"
      ]
     },
     "execution_count": 11,
     "metadata": {},
     "output_type": "execute_result"
    }
   ],
   "source": [
    "# Evaluar el modelo en el conjunto de prueba\n",
    "test_dir = \"/kaggle/input/chest-xray-pneumonia/chest_xray/val\"\n",
    "test_datagen = ImageDataGenerator(rescale=1./255)\n",
    "test_generator = test_datagen.flow_from_directory(\n",
    "test_dir,\n",
    "target_size=(224, 224),\n",
    "batch_size=32,\n",
    "class_mode=\"binary\",\n",
    "shuffle=False\n",
    ")\n",
    "\n",
    "model.evaluate(test_generator)"
   ]
  },
  {
   "cell_type": "code",
   "execution_count": 12,
   "id": "47774fb4",
   "metadata": {
    "execution": {
     "iopub.execute_input": "2023-04-20T20:57:32.686337Z",
     "iopub.status.busy": "2023-04-20T20:57:32.685937Z",
     "iopub.status.idle": "2023-04-20T20:57:34.287953Z",
     "shell.execute_reply": "2023-04-20T20:57:34.286940Z"
    },
    "papermill": {
     "duration": 1.764773,
     "end_time": "2023-04-20T20:57:34.290150",
     "exception": false,
     "start_time": "2023-04-20T20:57:32.525377",
     "status": "completed"
    },
    "tags": []
   },
   "outputs": [
    {
     "data": {
      "image/png": "[encoded data removed]",
      "text/plain": [
       "<Figure size 640x480 with 2 Axes>"
      ]
     },
     "metadata": {},
     "output_type": "display_data"
    }
   ],
   "source": [
    "# Predecir las etiquetas para el conjunto de prueba y generar una matriz de confusión\n",
    "test_generator.reset()\n",
    "y_pred = model.predict(test_generator)\n",
    "y_pred = np.round(y_pred).flatten()\n",
    "y_true = test_generator.classes\n",
    "cm = confusion_matrix(y_true, y_pred)\n",
    "sns.heatmap(cm, annot=True, cmap='Blues', fmt='g', xticklabels=['Normal', 'Pneumonia'], yticklabels=['Normal', 'Pneumonia'])\n",
    "plt.xlabel('Predicted Label')\n",
    "plt.ylabel('True Label')\n",
    "plt.title('Confusion Matrix')\n",
    "plt.show()"
   ]
  },
  {
   "cell_type": "code",
   "execution_count": 13,
   "id": "595ef0b1",
   "metadata": {
    "execution": {
     "iopub.execute_input": "2023-04-20T20:57:34.606095Z",
     "iopub.status.busy": "2023-04-20T20:57:34.605670Z",
     "iopub.status.idle": "2023-04-20T20:57:34.618432Z",
     "shell.execute_reply": "2023-04-20T20:57:34.617485Z"
    },
    "papermill": {
     "duration": 0.172985,
     "end_time": "2023-04-20T20:57:34.620637",
     "exception": false,
     "start_time": "2023-04-20T20:57:34.447652",
     "status": "completed"
    },
    "tags": []
   },
   "outputs": [
    {
     "name": "stdout",
     "output_type": "stream",
     "text": [
      "              precision    recall  f1-score   support\n",
      "\n",
      "      Normal       1.00      0.88      0.93         8\n",
      "   Pneumonia       0.89      1.00      0.94         8\n",
      "\n",
      "    accuracy                           0.94        16\n",
      "   macro avg       0.94      0.94      0.94        16\n",
      "weighted avg       0.94      0.94      0.94        16\n",
      "\n"
     ]
    }
   ],
   "source": [
    "# Mostrar el informe de clasificación\n",
    "print(classification_report(y_true, y_pred, target_names=['Normal', 'Pneumonia']))"
   ]
  }
 ],
 "metadata": {
  "kernelspec": {
   "display_name": "Python 3",
   "language": "python",
   "name": "python3"
  },
  "language_info": {
   "codemirror_mode": {
    "name": "ipython",
    "version": 3
   },
   "file_extension": ".py",
   "mimetype": "text/x-python",
   "name": "python",
   "nbconvert_exporter": "python",
   "pygments_lexer": "ipython3",
   "version": "3.7.12"
  },
  "papermill": {
   "default_parameters": {},
   "duration": 2227.81608,
   "end_time": "2023-04-20T20:57:37.661916",
   "environment_variables": {},
   "exception": null,
   "input_path": "__notebook__.ipynb",
   "output_path": "__notebook__.ipynb",
   "parameters": {},
   "start_time": "2023-04-20T20:20:29.845836",
   "version": "2.4.0"
  }
 },
 "nbformat": 4,
 "nbformat_minor": 5
}
