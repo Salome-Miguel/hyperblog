{
 "cells": [
  {
   "cell_type": "code",
   "execution_count": 1,
   "id": "a6050c91",
   "metadata": {
    "_cell_guid": "b1076dfc-b9ad-4769-8c92-a6c4dae69d19",
    "_uuid": "8f2839f25d086af736a60e9eeb907d3b93b6e0e5",
    "execution": {
     "iopub.execute_input": "2023-04-20T22:48:52.853740Z",
     "iopub.status.busy": "2023-04-20T22:48:52.852879Z",
     "iopub.status.idle": "2023-04-20T22:50:24.776365Z",
     "shell.execute_reply": "2023-04-20T22:50:24.775110Z"
    },
    "papermill": {
     "duration": 91.932257,
     "end_time": "2023-04-20T22:50:24.779088",
     "exception": false,
     "start_time": "2023-04-20T22:48:52.846831",
     "status": "completed"
    },
    "tags": []
   },
   "outputs": [
    {
     "name": "stdout",
     "output_type": "stream",
     "text": [
      "Collecting tensorflow==2.7.0\r\n",
      "  Downloading tensorflow-2.7.0-cp37-cp37m-manylinux2010_x86_64.whl (489.6 MB)\r\n",
      "\u001b[2K     \u001b[90m━━━━━━━━━━━━━━━━━━━━━━━━━━━━━━━━━━━━━━━\u001b[0m \u001b[32m489.6/489.6 MB\u001b[0m \u001b[31m2.5 MB/s\u001b[0m eta \u001b[36m0:00:00\u001b[0m\r\n",
      "\u001b[?25hRequirement already satisfied: numpy>=1.14.5 in /opt/conda/lib/python3.7/site-packages (from tensorflow==2.7.0) (1.21.6)\r\n",
      "Requirement already satisfied: h5py>=2.9.0 in /opt/conda/lib/python3.7/site-packages (from tensorflow==2.7.0) (3.8.0)\r\n",
      "Requirement already satisfied: grpcio<2.0,>=1.24.3 in /opt/conda/lib/python3.7/site-packages (from tensorflow==2.7.0) (1.51.1)\r\n",
      "Requirement already satisfied: astunparse>=1.6.0 in /opt/conda/lib/python3.7/site-packages (from tensorflow==2.7.0) (1.6.3)\r\n",
      "Requirement already satisfied: wrapt>=1.11.0 in /opt/conda/lib/python3.7/site-packages (from tensorflow==2.7.0) (1.14.1)\r\n",
      "Requirement already satisfied: absl-py>=0.4.0 in /opt/conda/lib/python3.7/site-packages (from tensorflow==2.7.0) (1.4.0)\r\n",
      "Requirement already satisfied: opt-einsum>=2.3.2 in /opt/conda/lib/python3.7/site-packages (from tensorflow==2.7.0) (3.3.0)\r\n",
      "Collecting keras<2.8,>=2.7.0rc0\r\n",
      "  Downloading keras-2.7.0-py2.py3-none-any.whl (1.3 MB)\r\n",
      "\u001b[2K     \u001b[90m━━━━━━━━━━━━━━━━━━━━━━━━━━━━━━━━━━━━━━━━\u001b[0m \u001b[32m1.3/1.3 MB\u001b[0m \u001b[31m5.8 MB/s\u001b[0m eta \u001b[36m0:00:00\u001b[0m\r\n",
      "\u001b[?25hRequirement already satisfied: tensorflow-io-gcs-filesystem>=0.21.0 in /opt/conda/lib/python3.7/site-packages (from tensorflow==2.7.0) (0.29.0)\r\n",
      "Requirement already satisfied: protobuf>=3.9.2 in /opt/conda/lib/python3.7/site-packages (from tensorflow==2.7.0) (3.20.3)\r\n",
      "Collecting tensorflow-estimator<2.8,~=2.7.0rc0\r\n",
      "  Downloading tensorflow_estimator-2.7.0-py2.py3-none-any.whl (463 kB)\r\n",
      "\u001b[2K     \u001b[90m━━━━━━━━━━━━━━━━━━━━━━━━━━━━━━━━━━━━━━━\u001b[0m \u001b[32m463.1/463.1 kB\u001b[0m \u001b[31m3.2 MB/s\u001b[0m eta \u001b[36m0:00:00\u001b[0m\r\n",
      "\u001b[?25hRequirement already satisfied: termcolor>=1.1.0 in /opt/conda/lib/python3.7/site-packages (from tensorflow==2.7.0) (2.2.0)\r\n",
      "Requirement already satisfied: gast<0.5.0,>=0.2.1 in /opt/conda/lib/python3.7/site-packages (from tensorflow==2.7.0) (0.4.0)\r\n",
      "Requirement already satisfied: wheel<1.0,>=0.32.0 in /opt/conda/lib/python3.7/site-packages (from tensorflow==2.7.0) (0.38.4)\r\n",
      "Requirement already satisfied: six>=1.12.0 in /opt/conda/lib/python3.7/site-packages (from tensorflow==2.7.0) (1.16.0)\r\n",
      "Requirement already satisfied: google-pasta>=0.1.1 in /opt/conda/lib/python3.7/site-packages (from tensorflow==2.7.0) (0.2.0)\r\n",
      "Requirement already satisfied: libclang>=9.0.1 in /opt/conda/lib/python3.7/site-packages (from tensorflow==2.7.0) (15.0.6.1)\r\n",
      "Collecting flatbuffers<3.0,>=1.12\r\n",
      "  Downloading flatbuffers-2.0.7-py2.py3-none-any.whl (26 kB)\r\n",
      "Requirement already satisfied: typing-extensions>=3.6.6 in /opt/conda/lib/python3.7/site-packages (from tensorflow==2.7.0) (4.4.0)\r\n",
      "Collecting keras-preprocessing>=1.1.1\r\n",
      "  Downloading Keras_Preprocessing-1.1.2-py2.py3-none-any.whl (42 kB)\r\n",
      "\u001b[2K     \u001b[90m━━━━━━━━━━━━━━━━━━━━━━━━━━━━━━━━━━━━━━━\u001b[0m \u001b[32m42.6/42.6 kB\u001b[0m \u001b[31m270.4 kB/s\u001b[0m eta \u001b[36m0:00:00\u001b[0m\r\n",
      "\u001b[?25hRequirement already satisfied: tensorboard~=2.6 in /opt/conda/lib/python3.7/site-packages (from tensorflow==2.7.0) (2.11.2)\r\n",
      "Requirement already satisfied: setuptools>=41.0.0 in /opt/conda/lib/python3.7/site-packages (from tensorboard~=2.6->tensorflow==2.7.0) (59.8.0)\r\n",
      "Requirement already satisfied: requests<3,>=2.21.0 in /opt/conda/lib/python3.7/site-packages (from tensorboard~=2.6->tensorflow==2.7.0) (2.28.2)\r\n",
      "Requirement already satisfied: tensorboard-data-server<0.7.0,>=0.6.0 in /opt/conda/lib/python3.7/site-packages (from tensorboard~=2.6->tensorflow==2.7.0) (0.6.1)\r\n",
      "Requirement already satisfied: tensorboard-plugin-wit>=1.6.0 in /opt/conda/lib/python3.7/site-packages (from tensorboard~=2.6->tensorflow==2.7.0) (1.8.1)\r\n",
      "Requirement already satisfied: werkzeug>=1.0.1 in /opt/conda/lib/python3.7/site-packages (from tensorboard~=2.6->tensorflow==2.7.0) (2.2.3)\r\n",
      "Requirement already satisfied: google-auth<3,>=1.6.3 in /opt/conda/lib/python3.7/site-packages (from tensorboard~=2.6->tensorflow==2.7.0) (1.35.0)\r\n",
      "Requirement already satisfied: google-auth-oauthlib<0.5,>=0.4.1 in /opt/conda/lib/python3.7/site-packages (from tensorboard~=2.6->tensorflow==2.7.0) (0.4.6)\r\n",
      "Requirement already satisfied: markdown>=2.6.8 in /opt/conda/lib/python3.7/site-packages (from tensorboard~=2.6->tensorflow==2.7.0) (3.4.1)\r\n",
      "Requirement already satisfied: cachetools<5.0,>=2.0.0 in /opt/conda/lib/python3.7/site-packages (from google-auth<3,>=1.6.3->tensorboard~=2.6->tensorflow==2.7.0) (4.2.4)\r\n",
      "Requirement already satisfied: pyasn1-modules>=0.2.1 in /opt/conda/lib/python3.7/site-packages (from google-auth<3,>=1.6.3->tensorboard~=2.6->tensorflow==2.7.0) (0.2.8)\r\n",
      "Requirement already satisfied: rsa<5,>=3.1.4 in /opt/conda/lib/python3.7/site-packages (from google-auth<3,>=1.6.3->tensorboard~=2.6->tensorflow==2.7.0) (4.9)\r\n",
      "Requirement already satisfied: requests-oauthlib>=0.7.0 in /opt/conda/lib/python3.7/site-packages (from google-auth-oauthlib<0.5,>=0.4.1->tensorboard~=2.6->tensorflow==2.7.0) (1.3.1)\r\n",
      "Requirement already satisfied: importlib-metadata>=4.4 in /opt/conda/lib/python3.7/site-packages (from markdown>=2.6.8->tensorboard~=2.6->tensorflow==2.7.0) (4.11.4)\r\n",
      "Requirement already satisfied: certifi>=2017.4.17 in /opt/conda/lib/python3.7/site-packages (from requests<3,>=2.21.0->tensorboard~=2.6->tensorflow==2.7.0) (2022.12.7)\r\n",
      "Requirement already satisfied: urllib3<1.27,>=1.21.1 in /opt/conda/lib/python3.7/site-packages (from requests<3,>=2.21.0->tensorboard~=2.6->tensorflow==2.7.0) (1.26.14)\r\n",
      "Requirement already satisfied: idna<4,>=2.5 in /opt/conda/lib/python3.7/site-packages (from requests<3,>=2.21.0->tensorboard~=2.6->tensorflow==2.7.0) (3.4)\r\n",
      "Requirement already satisfied: charset-normalizer<4,>=2 in /opt/conda/lib/python3.7/site-packages (from requests<3,>=2.21.0->tensorboard~=2.6->tensorflow==2.7.0) (2.1.1)\r\n",
      "Requirement already satisfied: MarkupSafe>=2.1.1 in /opt/conda/lib/python3.7/site-packages (from werkzeug>=1.0.1->tensorboard~=2.6->tensorflow==2.7.0) (2.1.1)\r\n",
      "Requirement already satisfied: zipp>=0.5 in /opt/conda/lib/python3.7/site-packages (from importlib-metadata>=4.4->markdown>=2.6.8->tensorboard~=2.6->tensorflow==2.7.0) (3.11.0)\r\n",
      "Requirement already satisfied: pyasn1<0.5.0,>=0.4.6 in /opt/conda/lib/python3.7/site-packages (from pyasn1-modules>=0.2.1->google-auth<3,>=1.6.3->tensorboard~=2.6->tensorflow==2.7.0) (0.4.8)\r\n",
      "Requirement already satisfied: oauthlib>=3.0.0 in /opt/conda/lib/python3.7/site-packages (from requests-oauthlib>=0.7.0->google-auth-oauthlib<0.5,>=0.4.1->tensorboard~=2.6->tensorflow==2.7.0) (3.2.2)\r\n",
      "Installing collected packages: tensorflow-estimator, keras, flatbuffers, keras-preprocessing, tensorflow\r\n",
      "  Attempting uninstall: tensorflow-estimator\r\n",
      "    Found existing installation: tensorflow-estimator 2.11.0\r\n",
      "    Uninstalling tensorflow-estimator-2.11.0:\r\n",
      "      Successfully uninstalled tensorflow-estimator-2.11.0\r\n",
      "  Attempting uninstall: keras\r\n",
      "    Found existing installation: keras 2.11.0\r\n",
      "    Uninstalling keras-2.11.0:\r\n",
      "      Successfully uninstalled keras-2.11.0\r\n",
      "  Attempting uninstall: flatbuffers\r\n",
      "    Found existing installation: flatbuffers 23.1.21\r\n",
      "    Uninstalling flatbuffers-23.1.21:\r\n",
      "      Successfully uninstalled flatbuffers-23.1.21\r\n",
      "  Attempting uninstall: tensorflow\r\n",
      "    Found existing installation: tensorflow 2.11.0\r\n",
      "    Uninstalling tensorflow-2.11.0:\r\n",
      "      Successfully uninstalled tensorflow-2.11.0\r\n",
      "\u001b[31mERROR: pip's dependency resolver does not currently take into account all the packages that are installed. This behaviour is the source of the following dependency conflicts.\r\n",
      "tfx-bsl 1.12.0 requires google-api-python-client<2,>=1.7.11, but you have google-api-python-client 2.83.0 which is incompatible.\r\n",
      "tfx-bsl 1.12.0 requires pyarrow<7,>=6, but you have pyarrow 5.0.0 which is incompatible.\r\n",
      "tfx-bsl 1.12.0 requires tensorflow<3,>=2.11, but you have tensorflow 2.7.0 which is incompatible.\r\n",
      "tensorflow-transform 1.12.0 requires pyarrow<7,>=6, but you have pyarrow 5.0.0 which is incompatible.\r\n",
      "tensorflow-transform 1.12.0 requires tensorflow<2.12,>=2.11.0, but you have tensorflow 2.7.0 which is incompatible.\r\n",
      "tensorflow-text 2.11.0 requires tensorflow<2.12,>=2.11.0; platform_machine != \"arm64\" or platform_system != \"Darwin\", but you have tensorflow 2.7.0 which is incompatible.\r\n",
      "tensorflow-serving-api 2.11.0 requires protobuf<3.20,>=3.9.2, but you have protobuf 3.20.3 which is incompatible.\r\n",
      "tensorflow-serving-api 2.11.0 requires tensorflow<3,>=2.11.0, but you have tensorflow 2.7.0 which is incompatible.\r\n",
      "tensorflow-decision-forests 1.2.0 requires tensorflow~=2.11.0, but you have tensorflow 2.7.0 which is incompatible.\u001b[0m\u001b[31m\r\n",
      "\u001b[0mSuccessfully installed flatbuffers-2.0.7 keras-2.7.0 keras-preprocessing-1.1.2 tensorflow-2.7.0 tensorflow-estimator-2.7.0\r\n",
      "\u001b[33mWARNING: Running pip as the 'root' user can result in broken permissions and conflicting behaviour with the system package manager. It is recommended to use a virtual environment instead: https://pip.pypa.io/warnings/venv\u001b[0m\u001b[33m\r\n",
      "\u001b[0mCollecting tensorflow-addons==0.13.0\r\n",
      "  Downloading tensorflow_addons-0.13.0-cp37-cp37m-manylinux2010_x86_64.whl (679 kB)\r\n",
      "\u001b[2K     \u001b[90m━━━━━━━━━━━━━━━━━━━━━━━━━━━━━━━━━━━━━━\u001b[0m \u001b[32m679.9/679.9 kB\u001b[0m \u001b[31m23.9 MB/s\u001b[0m eta \u001b[36m0:00:00\u001b[0m\r\n",
      "\u001b[?25hRequirement already satisfied: typeguard>=2.7 in /opt/conda/lib/python3.7/site-packages (from tensorflow-addons==0.13.0) (2.13.3)\r\n",
      "Installing collected packages: tensorflow-addons\r\n",
      "  Attempting uninstall: tensorflow-addons\r\n",
      "    Found existing installation: tensorflow-addons 0.19.0\r\n",
      "    Uninstalling tensorflow-addons-0.19.0:\r\n",
      "      Successfully uninstalled tensorflow-addons-0.19.0\r\n",
      "Successfully installed tensorflow-addons-0.13.0\r\n",
      "\u001b[33mWARNING: Running pip as the 'root' user can result in broken permissions and conflicting behaviour with the system package manager. It is recommended to use a virtual environment instead: https://pip.pypa.io/warnings/venv\u001b[0m\u001b[33m\r\n",
      "\u001b[0mCollecting keras==2.4.3\r\n",
      "  Downloading Keras-2.4.3-py2.py3-none-any.whl (36 kB)\r\n",
      "Requirement already satisfied: pyyaml in /opt/conda/lib/python3.7/site-packages (from keras==2.4.3) (6.0)\r\n",
      "Requirement already satisfied: numpy>=1.9.1 in /opt/conda/lib/python3.7/site-packages (from keras==2.4.3) (1.21.6)\r\n",
      "Requirement already satisfied: h5py in /opt/conda/lib/python3.7/site-packages (from keras==2.4.3) (3.8.0)\r\n",
      "Requirement already satisfied: scipy>=0.14 in /opt/conda/lib/python3.7/site-packages (from keras==2.4.3) (1.7.3)\r\n",
      "Installing collected packages: keras\r\n",
      "  Attempting uninstall: keras\r\n",
      "    Found existing installation: keras 2.7.0\r\n",
      "    Uninstalling keras-2.7.0:\r\n",
      "      Successfully uninstalled keras-2.7.0\r\n",
      "\u001b[31mERROR: pip's dependency resolver does not currently take into account all the packages that are installed. This behaviour is the source of the following dependency conflicts.\r\n",
      "tensorflow 2.7.0 requires keras<2.8,>=2.7.0rc0, but you have keras 2.4.3 which is incompatible.\r\n",
      "tensorflow-transform 1.12.0 requires pyarrow<7,>=6, but you have pyarrow 5.0.0 which is incompatible.\r\n",
      "tensorflow-transform 1.12.0 requires tensorflow<2.12,>=2.11.0, but you have tensorflow 2.7.0 which is incompatible.\r\n",
      "tensorflow-text 2.11.0 requires tensorflow<2.12,>=2.11.0; platform_machine != \"arm64\" or platform_system != \"Darwin\", but you have tensorflow 2.7.0 which is incompatible.\r\n",
      "tensorflow-serving-api 2.11.0 requires protobuf<3.20,>=3.9.2, but you have protobuf 3.20.3 which is incompatible.\r\n",
      "tensorflow-serving-api 2.11.0 requires tensorflow<3,>=2.11.0, but you have tensorflow 2.7.0 which is incompatible.\r\n",
      "tensorflow-decision-forests 1.2.0 requires tensorflow~=2.11.0, but you have tensorflow 2.7.0 which is incompatible.\u001b[0m\u001b[31m\r\n",
      "\u001b[0mSuccessfully installed keras-2.4.3\r\n",
      "\u001b[33mWARNING: Running pip as the 'root' user can result in broken permissions and conflicting behaviour with the system package manager. It is recommended to use a virtual environment instead: https://pip.pypa.io/warnings/venv\u001b[0m\u001b[33m\r\n",
      "\u001b[0m"
     ]
    }
   ],
   "source": [
    "!pip install tensorflow==2.7.0\n",
    "\n",
    "!pip install tensorflow-addons==0.13.0\n",
    "\n",
    "!pip install keras==2.4.3"
   ]
  },
  {
   "cell_type": "code",
   "execution_count": 2,
   "id": "f0d7faf1",
   "metadata": {
    "execution": {
     "iopub.execute_input": "2023-04-20T22:50:24.810068Z",
     "iopub.status.busy": "2023-04-20T22:50:24.809715Z",
     "iopub.status.idle": "2023-04-20T22:50:29.073407Z",
     "shell.execute_reply": "2023-04-20T22:50:29.072289Z"
    },
    "papermill": {
     "duration": 4.282469,
     "end_time": "2023-04-20T22:50:29.076173",
     "exception": false,
     "start_time": "2023-04-20T22:50:24.793704",
     "status": "completed"
    },
    "tags": []
   },
   "outputs": [
    {
     "name": "stderr",
     "output_type": "stream",
     "text": [
      "/opt/conda/lib/python3.7/site-packages/tensorflow_addons/utils/ensure_tf_install.py:67: UserWarning: Tensorflow Addons supports using Python ops for all Tensorflow versions above or equal to 2.3.0 and strictly below 2.6.0 (nightly versions are not supported). \n",
      " The versions of TensorFlow you are currently using is 2.7.0 and is not supported. \n",
      "Some things might work, some things might not.\n",
      "If you were to encounter a bug, do not file an issue.\n",
      "If you want to make sure you're using a tested and supported configuration, either change the TensorFlow version or the TensorFlow Addons's version. \n",
      "You can find the compatibility matrix in TensorFlow Addon's readme:\n",
      "https://github.com/tensorflow/addons\n",
      "  UserWarning,\n"
     ]
    }
   ],
   "source": [
    "import matplotlib.pyplot as plt\n",
    "import numpy as np\n",
    "import os\n",
    "import seaborn as sns\n",
    "import keras\n",
    "import tensorflow as tf\n",
    "from tensorflow.keras.callbacks import EarlyStopping, ModelCheckpoint, ReduceLROnPlateau\n",
    "from tensorflow.keras.layers import Dense, Dropout, Flatten, Input, Conv2D, MaxPooling2D, BatchNormalization, Activation\n",
    "from tensorflow.keras.models import Model\n",
    "from tensorflow_addons.optimizers import AdamW\n",
    "from tensorflow.keras.preprocessing.image import ImageDataGenerator\n",
    "from sklearn.metrics import classification_report, confusion_matrix"
   ]
  },
  {
   "cell_type": "code",
   "execution_count": 3,
   "id": "43a2a022",
   "metadata": {
    "execution": {
     "iopub.execute_input": "2023-04-20T22:50:29.106629Z",
     "iopub.status.busy": "2023-04-20T22:50:29.105972Z",
     "iopub.status.idle": "2023-04-20T22:50:29.111575Z",
     "shell.execute_reply": "2023-04-20T22:50:29.110570Z"
    },
    "papermill": {
     "duration": 0.023097,
     "end_time": "2023-04-20T22:50:29.113685",
     "exception": false,
     "start_time": "2023-04-20T22:50:29.090588",
     "status": "completed"
    },
    "tags": []
   },
   "outputs": [],
   "source": [
    "# Definir el generador de imágenes de entrenamiento con aumento de datos\n",
    "train_datagen = ImageDataGenerator(\n",
    "    rescale=1./255,\n",
    "    rotation_range=20,\n",
    "    width_shift_range=0.2,\n",
    "    height_shift_range=0.2,\n",
    "    shear_range=0.2,\n",
    "    zoom_range=0.2,\n",
    "    horizontal_flip=True,\n",
    "    fill_mode='nearest'\n",
    ")"
   ]
  },
  {
   "cell_type": "code",
   "execution_count": 4,
   "id": "1d1804bc",
   "metadata": {
    "execution": {
     "iopub.execute_input": "2023-04-20T22:50:29.143653Z",
     "iopub.status.busy": "2023-04-20T22:50:29.143374Z",
     "iopub.status.idle": "2023-04-20T22:50:32.715884Z",
     "shell.execute_reply": "2023-04-20T22:50:32.714900Z"
    },
    "papermill": {
     "duration": 3.590434,
     "end_time": "2023-04-20T22:50:32.718278",
     "exception": false,
     "start_time": "2023-04-20T22:50:29.127844",
     "status": "completed"
    },
    "tags": []
   },
   "outputs": [
    {
     "name": "stdout",
     "output_type": "stream",
     "text": [
      "Found 5216 images belonging to 2 classes.\n",
      "Found 624 images belonging to 2 classes.\n"
     ]
    }
   ],
   "source": [
    "# Definir el generador de imágenes de validación sin aumento de datos\n",
    "valid_datagen = ImageDataGenerator(rescale=1./255)\n",
    "\n",
    "train_dir = \"/kaggle/input/chest-xray-pneumonia/chest_xray/train\"\n",
    "valid_dir = \"/kaggle/input/chest-xray-pneumonia/chest_xray/test\"\n",
    "\n",
    "train_generator = train_datagen.flow_from_directory(\n",
    "    train_dir,\n",
    "    target_size=(224, 224),\n",
    "    batch_size=32,\n",
    "    class_mode=\"binary\"\n",
    ")\n",
    "\n",
    "valid_generator = valid_datagen.flow_from_directory(\n",
    "    valid_dir,\n",
    "    target_size=(224, 224),\n",
    "    batch_size=32,\n",
    "    class_mode=\"binary\"\n",
    ")"
   ]
  },
  {
   "cell_type": "code",
   "execution_count": 5,
   "id": "9f129159",
   "metadata": {
    "execution": {
     "iopub.execute_input": "2023-04-20T22:50:32.749216Z",
     "iopub.status.busy": "2023-04-20T22:50:32.748193Z",
     "iopub.status.idle": "2023-04-20T22:50:38.659990Z",
     "shell.execute_reply": "2023-04-20T22:50:38.658987Z"
    },
    "papermill": {
     "duration": 5.929763,
     "end_time": "2023-04-20T22:50:38.662558",
     "exception": false,
     "start_time": "2023-04-20T22:50:32.732795",
     "status": "completed"
    },
    "tags": []
   },
   "outputs": [
    {
     "name": "stdout",
     "output_type": "stream",
     "text": [
      "Downloading data from https://storage.googleapis.com/tensorflow/keras-applications/resnet/resnet50v2_weights_tf_dim_ordering_tf_kernels_notop.h5\n",
      "94674944/94668760 [==============================] - 3s 0us/step\n"
     ]
    }
   ],
   "source": [
    "# Cargar un modelo pre-entrenado y ajustar las últimas capas para el conjunto de datos actual\n",
    "base_model = tf.keras.applications.ResNet50V2(\n",
    "    include_top=False,\n",
    "    input_tensor=Input(shape=(224, 224, 3)),\n",
    "    weights='imagenet',\n",
    "    pooling='avg'\n",
    ")\n",
    "\n",
    "x = base_model.output\n",
    "x = Dense(512, activation='relu')(x)\n",
    "x = Dropout(0.5)(x)\n",
    "predictions = Dense(1, activation='sigmoid')(x)\n",
    "\n",
    "model = Model(inputs=base_model.input, outputs=predictions)"
   ]
  },
  {
   "cell_type": "code",
   "execution_count": 6,
   "id": "26c1c8de",
   "metadata": {
    "execution": {
     "iopub.execute_input": "2023-04-20T22:50:38.699738Z",
     "iopub.status.busy": "2023-04-20T22:50:38.698810Z",
     "iopub.status.idle": "2023-04-20T22:50:38.708757Z",
     "shell.execute_reply": "2023-04-20T22:50:38.707765Z"
    },
    "papermill": {
     "duration": 0.030432,
     "end_time": "2023-04-20T22:50:38.710845",
     "exception": false,
     "start_time": "2023-04-20T22:50:38.680413",
     "status": "completed"
    },
    "tags": []
   },
   "outputs": [],
   "source": [
    "# Congelar las capas del modelo pre-entrenado para evitar que se modifiquen durante el entrenamiento\n",
    "for layer in base_model.layers:\n",
    "    layer.trainable = False"
   ]
  },
  {
   "cell_type": "code",
   "execution_count": 7,
   "id": "bbcbbb45",
   "metadata": {
    "execution": {
     "iopub.execute_input": "2023-04-20T22:50:38.746275Z",
     "iopub.status.busy": "2023-04-20T22:50:38.745923Z",
     "iopub.status.idle": "2023-04-20T22:50:38.752225Z",
     "shell.execute_reply": "2023-04-20T22:50:38.751295Z"
    },
    "papermill": {
     "duration": 0.026506,
     "end_time": "2023-04-20T22:50:38.754311",
     "exception": false,
     "start_time": "2023-04-20T22:50:38.727805",
     "status": "completed"
    },
    "tags": []
   },
   "outputs": [],
   "source": [
    "# Definir callbacks\n",
    "early_stopping = EarlyStopping(patience=5, restore_best_weights=True)\n",
    "model_checkpoint = ModelCheckpoint('best_model.h5', save_best_only=True, verbose=1)\n",
    "reduce_lr = ReduceLROnPlateau(factor=0.1, patience=3, verbose=1)"
   ]
  },
  {
   "cell_type": "code",
   "execution_count": 8,
   "id": "c4ba06aa",
   "metadata": {
    "execution": {
     "iopub.execute_input": "2023-04-20T22:50:38.790956Z",
     "iopub.status.busy": "2023-04-20T22:50:38.789282Z",
     "iopub.status.idle": "2023-04-20T22:50:38.805429Z",
     "shell.execute_reply": "2023-04-20T22:50:38.804552Z"
    },
    "papermill": {
     "duration": 0.036409,
     "end_time": "2023-04-20T22:50:38.807683",
     "exception": false,
     "start_time": "2023-04-20T22:50:38.771274",
     "status": "completed"
    },
    "tags": []
   },
   "outputs": [],
   "source": [
    "# Compilar el modelo\n",
    "optimizer = AdamW(learning_rate=1e-4, weight_decay=1e-4)\n",
    "model.compile(optimizer=optimizer, loss='binary_crossentropy', metrics=['accuracy'])"
   ]
  },
  {
   "cell_type": "code",
   "execution_count": 9,
   "id": "d8e75f53",
   "metadata": {
    "execution": {
     "iopub.execute_input": "2023-04-20T22:50:38.842809Z",
     "iopub.status.busy": "2023-04-20T22:50:38.842534Z",
     "iopub.status.idle": "2023-04-20T23:20:46.834049Z",
     "shell.execute_reply": "2023-04-20T23:20:46.832984Z"
    },
    "papermill": {
     "duration": 1808.011797,
     "end_time": "2023-04-20T23:20:46.836371",
     "exception": false,
     "start_time": "2023-04-20T22:50:38.824574",
     "status": "completed"
    },
    "tags": []
   },
   "outputs": [
    {
     "name": "stdout",
     "output_type": "stream",
     "text": [
      "Epoch 1/20\n",
      "163/163 [==============================] - 162s 953ms/step - loss: 0.3073 - accuracy: 0.8664 - val_loss: 0.2994 - val_accuracy: 0.8910\n",
      "\n",
      "Epoch 00001: val_loss improved from inf to 0.29942, saving model to best_model.h5\n"
     ]
    },
    {
     "name": "stderr",
     "output_type": "stream",
     "text": [
      "/opt/conda/lib/python3.7/site-packages/tensorflow/python/keras/utils/generic_utils.py:497: CustomMaskWarning: Custom mask layers require a config and must override get_config. When loading, the custom mask layer must be passed to the custom_objects argument.\n",
      "  category=CustomMaskWarning)\n"
     ]
    },
    {
     "name": "stdout",
     "output_type": "stream",
     "text": [
      "Epoch 2/20\n",
      "163/163 [==============================] - 123s 754ms/step - loss: 0.1932 - accuracy: 0.9231 - val_loss: 0.2713 - val_accuracy: 0.8974\n",
      "\n",
      "Epoch 00002: val_loss improved from 0.29942 to 0.27129, saving model to best_model.h5\n",
      "Epoch 3/20\n",
      "163/163 [==============================] - 123s 755ms/step - loss: 0.1702 - accuracy: 0.9294 - val_loss: 0.2673 - val_accuracy: 0.8942\n",
      "\n",
      "Epoch 00003: val_loss improved from 0.27129 to 0.26726, saving model to best_model.h5\n",
      "Epoch 4/20\n",
      "163/163 [==============================] - 123s 754ms/step - loss: 0.1578 - accuracy: 0.9348 - val_loss: 0.2710 - val_accuracy: 0.9022\n",
      "\n",
      "Epoch 00004: val_loss did not improve from 0.26726\n",
      "Epoch 5/20\n",
      "163/163 [==============================] - 123s 752ms/step - loss: 0.1469 - accuracy: 0.9429 - val_loss: 0.2479 - val_accuracy: 0.9167\n",
      "\n",
      "Epoch 00005: val_loss improved from 0.26726 to 0.24786, saving model to best_model.h5\n",
      "Epoch 6/20\n",
      "163/163 [==============================] - 123s 757ms/step - loss: 0.1410 - accuracy: 0.9463 - val_loss: 0.2502 - val_accuracy: 0.9071\n",
      "\n",
      "Epoch 00006: val_loss did not improve from 0.24786\n",
      "Epoch 7/20\n",
      "163/163 [==============================] - 122s 749ms/step - loss: 0.1458 - accuracy: 0.9427 - val_loss: 0.2442 - val_accuracy: 0.9071\n",
      "\n",
      "Epoch 00007: val_loss improved from 0.24786 to 0.24424, saving model to best_model.h5\n",
      "Epoch 8/20\n",
      "163/163 [==============================] - 124s 764ms/step - loss: 0.1353 - accuracy: 0.9494 - val_loss: 0.3076 - val_accuracy: 0.8830\n",
      "\n",
      "Epoch 00008: val_loss did not improve from 0.24424\n",
      "Epoch 9/20\n",
      "163/163 [==============================] - 124s 762ms/step - loss: 0.1371 - accuracy: 0.9471 - val_loss: 0.2292 - val_accuracy: 0.9199\n",
      "\n",
      "Epoch 00009: val_loss improved from 0.24424 to 0.22925, saving model to best_model.h5\n",
      "Epoch 10/20\n",
      "163/163 [==============================] - 125s 764ms/step - loss: 0.1268 - accuracy: 0.9511 - val_loss: 0.2565 - val_accuracy: 0.9054\n",
      "\n",
      "Epoch 00010: val_loss did not improve from 0.22925\n",
      "Epoch 11/20\n",
      "163/163 [==============================] - 125s 766ms/step - loss: 0.1232 - accuracy: 0.9513 - val_loss: 0.2412 - val_accuracy: 0.9103\n",
      "\n",
      "Epoch 00011: val_loss did not improve from 0.22925\n",
      "Epoch 12/20\n",
      "163/163 [==============================] - 126s 771ms/step - loss: 0.1232 - accuracy: 0.9538 - val_loss: 0.2366 - val_accuracy: 0.9119\n",
      "\n",
      "Epoch 00012: val_loss did not improve from 0.22925\n",
      "\n",
      "Epoch 00012: ReduceLROnPlateau reducing learning rate to 9.999999747378752e-06.\n",
      "Epoch 13/20\n",
      "163/163 [==============================] - 123s 755ms/step - loss: 0.1178 - accuracy: 0.9538 - val_loss: 0.2396 - val_accuracy: 0.9183\n",
      "\n",
      "Epoch 00013: val_loss did not improve from 0.22925\n",
      "Epoch 14/20\n",
      "163/163 [==============================] - 124s 760ms/step - loss: 0.1213 - accuracy: 0.9544 - val_loss: 0.2368 - val_accuracy: 0.9215\n",
      "\n",
      "Epoch 00014: val_loss did not improve from 0.22925\n"
     ]
    }
   ],
   "source": [
    "# Entrenar el modelo\n",
    "history = model.fit(\n",
    "train_generator,\n",
    "epochs=20,\n",
    "steps_per_epoch=len(train_generator),\n",
    "validation_data=valid_generator,\n",
    "validation_steps=len(valid_generator),\n",
    "callbacks=[early_stopping, model_checkpoint, reduce_lr]\n",
    ")"
   ]
  },
  {
   "cell_type": "code",
   "execution_count": 10,
   "id": "b5589ca8",
   "metadata": {
    "execution": {
     "iopub.execute_input": "2023-04-20T23:20:47.211576Z",
     "iopub.status.busy": "2023-04-20T23:20:47.210090Z",
     "iopub.status.idle": "2023-04-20T23:20:47.485619Z",
     "shell.execute_reply": "2023-04-20T23:20:47.484598Z"
    },
    "papermill": {
     "duration": 0.508904,
     "end_time": "2023-04-20T23:20:47.487797",
     "exception": false,
     "start_time": "2023-04-20T23:20:46.978893",
     "status": "completed"
    },
    "tags": []
   },
   "outputs": [
    {
     "data": {
      "image/png": "[encoded data removed]",
      "text/plain": [
       "<Figure size 800x600 with 1 Axes>"
      ]
     },
     "metadata": {},
     "output_type": "display_data"
    }
   ],
   "source": [
    "#Graficar la curva de aprendizaje\n",
    "plt.figure(figsize=(8, 6))\n",
    "plt.plot(history.history['loss'], label='train_loss')\n",
    "plt.plot(history.history['val_loss'], label='val_loss')\n",
    "plt.plot(history.history['accuracy'], label='train_acc')\n",
    "plt.plot(history.history['val_accuracy'], label='val_acc')\n",
    "plt.legend()\n",
    "plt.xlabel('Epoch')\n",
    "plt.ylabel('Loss / Accuracy')\n",
    "plt.title('Training and Validation Curves')\n",
    "plt.show()"
   ]
  },
  {
   "cell_type": "code",
   "execution_count": 11,
   "id": "6c17839f",
   "metadata": {
    "execution": {
     "iopub.execute_input": "2023-04-20T23:20:47.773150Z",
     "iopub.status.busy": "2023-04-20T23:20:47.772786Z",
     "iopub.status.idle": "2023-04-20T23:20:48.469023Z",
     "shell.execute_reply": "2023-04-20T23:20:48.468076Z"
    },
    "papermill": {
     "duration": 0.840917,
     "end_time": "2023-04-20T23:20:48.471358",
     "exception": false,
     "start_time": "2023-04-20T23:20:47.630441",
     "status": "completed"
    },
    "tags": []
   },
   "outputs": [
    {
     "name": "stdout",
     "output_type": "stream",
     "text": [
      "Found 16 images belonging to 2 classes.\n",
      "1/1 [==============================] - 0s 250ms/step - loss: 0.2818 - accuracy: 0.9375\n"
     ]
    },
    {
     "data": {
      "text/plain": [
       "[0.28184646368026733, 0.9375]"
      ]
     },
     "execution_count": 11,
     "metadata": {},
     "output_type": "execute_result"
    }
   ],
   "source": [
    "# Evaluar el modelo en el conjunto de prueba\n",
    "test_dir = \"/kaggle/input/chest-xray-pneumonia/chest_xray/val\"\n",
    "test_datagen = ImageDataGenerator(rescale=1./255)\n",
    "test_generator = test_datagen.flow_from_directory(\n",
    "test_dir,\n",
    "target_size=(224, 224),\n",
    "batch_size=32,\n",
    "class_mode=\"binary\",\n",
    "shuffle=False\n",
    ")\n",
    "\n",
    "model.evaluate(test_generator)"
   ]
  },
  {
   "cell_type": "code",
   "execution_count": 12,
   "id": "f3d4d421",
   "metadata": {
    "execution": {
     "iopub.execute_input": "2023-04-20T23:20:48.804713Z",
     "iopub.status.busy": "2023-04-20T23:20:48.803816Z",
     "iopub.status.idle": "2023-04-20T23:20:50.426248Z",
     "shell.execute_reply": "2023-04-20T23:20:50.425197Z"
    },
    "papermill": {
     "duration": 1.817112,
     "end_time": "2023-04-20T23:20:50.428515",
     "exception": false,
     "start_time": "2023-04-20T23:20:48.611403",
     "status": "completed"
    },
    "tags": []
   },
   "outputs": [
    {
     "data": {
      "image/png": "[encoded data removed]",
      "text/plain": [
       "<Figure size 640x480 with 2 Axes>"
      ]
     },
     "metadata": {},
     "output_type": "display_data"
    }
   ],
   "source": [
    "# Predecir las etiquetas para el conjunto de prueba y generar una matriz de confusión\n",
    "test_generator.reset()\n",
    "y_pred = model.predict(test_generator)\n",
    "y_pred = np.round(y_pred).flatten()\n",
    "y_true = test_generator.classes\n",
    "cm = confusion_matrix(y_true, y_pred)\n",
    "sns.heatmap(cm, annot=True, cmap='Blues', fmt='g', xticklabels=['Normal', 'Pneumonia'], yticklabels=['Normal', 'Pneumonia'])\n",
    "plt.xlabel('Predicted Label')\n",
    "plt.ylabel('True Label')\n",
    "plt.title('Confusion Matrix')\n",
    "plt.show()"
   ]
  },
  {
   "cell_type": "code",
   "execution_count": 13,
   "id": "bc06be03",
   "metadata": {
    "execution": {
     "iopub.execute_input": "2023-04-20T23:20:50.709485Z",
     "iopub.status.busy": "2023-04-20T23:20:50.708450Z",
     "iopub.status.idle": "2023-04-20T23:20:50.719421Z",
     "shell.execute_reply": "2023-04-20T23:20:50.717993Z"
    },
    "papermill": {
     "duration": 0.154136,
     "end_time": "2023-04-20T23:20:50.721630",
     "exception": false,
     "start_time": "2023-04-20T23:20:50.567494",
     "status": "completed"
    },
    "tags": []
   },
   "outputs": [
    {
     "name": "stdout",
     "output_type": "stream",
     "text": [
      "              precision    recall  f1-score   support\n",
      "\n",
      "      Normal       1.00      0.88      0.93         8\n",
      "   Pneumonia       0.89      1.00      0.94         8\n",
      "\n",
      "    accuracy                           0.94        16\n",
      "   macro avg       0.94      0.94      0.94        16\n",
      "weighted avg       0.94      0.94      0.94        16\n",
      "\n"
     ]
    }
   ],
   "source": [
    "# Mostrar el informe de clasificación\n",
    "print(classification_report(y_true, y_pred, target_names=['Normal', 'Pneumonia']))"
   ]
  }
 ],
 "metadata": {
  "kernelspec": {
   "display_name": "Python 3",
   "language": "python",
   "name": "python3"
  },
  "language_info": {
   "codemirror_mode": {
    "name": "ipython",
    "version": 3
   },
   "file_extension": ".py",
   "mimetype": "text/x-python",
   "name": "python",
   "nbconvert_exporter": "python",
   "pygments_lexer": "ipython3",
   "version": "3.7.12"
  },
  "papermill": {
   "default_parameters": {},
   "duration": 1930.794126,
   "end_time": "2023-04-20T23:20:54.296330",
   "environment_variables": {},
   "exception": null,
   "input_path": "__notebook__.ipynb",
   "output_path": "__notebook__.ipynb",
   "parameters": {},
   "start_time": "2023-04-20T22:48:43.502204",
   "version": "2.4.0"
  }
 },
 "nbformat": 4,
 "nbformat_minor": 5
}
